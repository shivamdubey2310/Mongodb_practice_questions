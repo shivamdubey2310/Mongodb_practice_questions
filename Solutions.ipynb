{
 "cells": [
  {
   "cell_type": "markdown",
   "id": "08482aa5-62cc-4736-8a81-dab7e5ce959a",
   "metadata": {},
   "source": [
    "# Solutions to mongodb practice questions "
   ]
  },
  {
   "cell_type": "markdown",
   "id": "4953c672-0d77-4067-8dfd-14bf471fc383",
   "metadata": {},
   "source": [
    "#### helper function"
   ]
  },
  {
   "cell_type": "code",
   "execution_count": 1,
   "id": "5bb7fd04-e303-45bd-91d4-7672486ac8c5",
   "metadata": {},
   "outputs": [],
   "source": [
    "import pprint\n",
    "from datetime import datetime\n",
    "import re"
   ]
  },
  {
   "cell_type": "code",
   "execution_count": 43,
   "id": "caefcf8f-00d1-4972-b519-a8f8ce933487",
   "metadata": {},
   "outputs": [],
   "source": [
    "def Output_head(result, docs_count = 2):\n",
    "    count = 1\n",
    "    for doc in result:\n",
    "        pprint.pprint(doc)\n",
    "        print(\"-\" * 60)\n",
    "        print()\n",
    "        if count >= docs_count:\n",
    "            break\n",
    "        count += 1"
   ]
  },
  {
   "cell_type": "markdown",
   "id": "84d48aa3-ba15-462e-9991-355e56f0f10d",
   "metadata": {},
   "source": [
    "## 1. Establishing connection "
   ]
  },
  {
   "cell_type": "code",
   "execution_count": 3,
   "id": "c07f5cec-7cf1-4140-9a88-7278b42a1b6f",
   "metadata": {},
   "outputs": [],
   "source": [
    "import pymongo"
   ]
  },
  {
   "cell_type": "code",
   "execution_count": 4,
   "id": "ae1f964c-4c1b-4933-9be1-3c59304473af",
   "metadata": {},
   "outputs": [],
   "source": [
    "myclient = pymongo.MongoClient(\"mongodb://localhost:27017/\")"
   ]
  },
  {
   "cell_type": "code",
   "execution_count": 5,
   "id": "a7529513-3201-4106-bc50-14d5c2200ca2",
   "metadata": {},
   "outputs": [],
   "source": [
    "myDb = myclient[\"MongoDb_Practice\"]"
   ]
  },
  {
   "cell_type": "code",
   "execution_count": 6,
   "id": "4a8d412f-74d6-4ad2-92c8-169219e9f172",
   "metadata": {},
   "outputs": [],
   "source": [
    "myCollection = myDb[\"Practice_Collection\"]"
   ]
  },
  {
   "cell_type": "markdown",
   "id": "c8f4ae70-f3b2-4a3e-8586-62b3945d81fd",
   "metadata": {},
   "source": [
    "--------"
   ]
  },
  {
   "cell_type": "markdown",
   "id": "2e256b84-2110-4753-b5aa-c7155f7f2c48",
   "metadata": {},
   "source": [
    "## 2. Validating connection"
   ]
  },
  {
   "cell_type": "code",
   "execution_count": 7,
   "id": "c31bf992-1bbd-4a82-9de2-2787db947ae3",
   "metadata": {},
   "outputs": [],
   "source": [
    "result = myCollection.find_one()"
   ]
  },
  {
   "cell_type": "code",
   "execution_count": 8,
   "id": "c58e6a65-653e-4980-b812-f0cdafe49c70",
   "metadata": {},
   "outputs": [
    {
     "data": {
      "text/plain": [
       "{'_id': ObjectId('56d61033a378eccde8a83554'),\n",
       " 'id': '10172-2015-CMPL',\n",
       " 'certificate_number': 9304489,\n",
       " 'business_name': 'UNNAMED HOT DOG VENDOR LICENSE NUMBER TA01158',\n",
       " 'date': datetime.datetime(2015, 8, 21, 0, 0),\n",
       " 'result': 'No Violation Issued',\n",
       " 'sector': 'Mobile Food Vendor - 881',\n",
       " 'address': {'city': '', 'zip': '', 'street': '', 'number': ''}}"
      ]
     },
     "execution_count": 8,
     "metadata": {},
     "output_type": "execute_result"
    }
   ],
   "source": [
    "result"
   ]
  },
  {
   "cell_type": "markdown",
   "id": "7734efde-f13a-4530-beab-3e0894ddde77",
   "metadata": {},
   "source": [
    "------"
   ]
  },
  {
   "cell_type": "markdown",
   "id": "c90590fd-ba5b-4ca3-a028-75516119c499",
   "metadata": {},
   "source": [
    "## 3. Questions"
   ]
  },
  {
   "cell_type": "markdown",
   "id": "cae602a4-2ad6-4816-af98-e3b5185c5f21",
   "metadata": {},
   "source": [
    "### 3.1 Easy Questions"
   ]
  },
  {
   "cell_type": "markdown",
   "id": "e16481c8-d724-4e16-8414-68a76fb279a3",
   "metadata": {},
   "source": [
    "Q1. Retrieve all documents in the collection."
   ]
  },
  {
   "cell_type": "code",
   "execution_count": 30,
   "id": "314143a2-a3a8-4c38-a4d3-e84c75f6a118",
   "metadata": {},
   "outputs": [],
   "source": [
    "result1 = myCollection.find()"
   ]
  },
  {
   "cell_type": "raw",
   "id": "18b6ab4a-bcb3-41a7-8d03-b3dead08f50d",
   "metadata": {},
   "source": [
    "for doc in result1:\n",
    "    print(doc)"
   ]
  },
  {
   "cell_type": "markdown",
   "id": "d3fa9902-ba0d-44a1-9652-715be0e6bcad",
   "metadata": {},
   "source": [
    "----------"
   ]
  },
  {
   "cell_type": "markdown",
   "id": "67b9b32b-9aa7-4b3c-b5fa-4f28c1aa3796",
   "metadata": {},
   "source": [
    "Q2. Retrieve the `business_name` of all businesses."
   ]
  },
  {
   "cell_type": "code",
   "execution_count": 60,
   "id": "6d33ab20-8e18-4be3-8f7e-f1a4da99c4ce",
   "metadata": {},
   "outputs": [],
   "source": [
    "query2 = {}"
   ]
  },
  {
   "cell_type": "code",
   "execution_count": 61,
   "id": "e0b53ca8-a7a1-48cb-ac83-12751f756b13",
   "metadata": {},
   "outputs": [],
   "source": [
    "projection2 = {\"business_name\": 1,\n",
    "              \"_id\": 0}"
   ]
  },
  {
   "cell_type": "code",
   "execution_count": 62,
   "id": "d807851c-0bb8-41a7-9a6d-405a374dbffe",
   "metadata": {},
   "outputs": [],
   "source": [
    "result2 = myCollection.find(query2, projection2)"
   ]
  },
  {
   "cell_type": "code",
   "execution_count": 64,
   "id": "44c767a1-5c9a-4a6e-b282-1c36ab63ea3a",
   "metadata": {},
   "outputs": [
    {
     "name": "stdout",
     "output_type": "stream",
     "text": [
      "{'business_name': 'NEW FINEST BUILDERS INC'}\n",
      "{'business_name': 'WILFREDO DELIVERY SERVICE INC'}\n",
      "{'business_name': 'AZMY KIROLES'}\n",
      "{'business_name': 'LISANDRO CABRERA'}\n",
      "{'business_name': 'BUILDING TO SERVE INC.'}\n"
     ]
    }
   ],
   "source": [
    "Output_head(result2, 5)"
   ]
  },
  {
   "cell_type": "markdown",
   "id": "c86b5a20-3ee7-49c3-9b8a-e69cd3a664f3",
   "metadata": {},
   "source": [
    "-----"
   ]
  },
  {
   "cell_type": "markdown",
   "id": "691dbca5-fdf2-44a9-87a8-645f277d2986",
   "metadata": {},
   "source": [
    "Q3. Retrieve the `business_name` and `certificate_number` of all businesses."
   ]
  },
  {
   "cell_type": "code",
   "execution_count": 65,
   "id": "56c6254f-8dd2-493c-b206-575ddb684fa1",
   "metadata": {},
   "outputs": [],
   "source": [
    "query3 = {}"
   ]
  },
  {
   "cell_type": "code",
   "execution_count": 67,
   "id": "70a67d47-30e7-4a5b-9009-30d3966bef00",
   "metadata": {},
   "outputs": [],
   "source": [
    "projection3 = {\"business_name\": 1,\n",
    "             \"certificate_number\": 1,\n",
    "             \"_id\": 0}"
   ]
  },
  {
   "cell_type": "code",
   "execution_count": 68,
   "id": "cdef08bc-bc2c-4e40-bf53-eed011e59f96",
   "metadata": {},
   "outputs": [],
   "source": [
    "result3 = myCollection.find(query3, projection3)"
   ]
  },
  {
   "cell_type": "code",
   "execution_count": 69,
   "id": "2a78ddc0-0d02-4bdc-a9f8-6558cc9dd86b",
   "metadata": {},
   "outputs": [
    {
     "name": "stdout",
     "output_type": "stream",
     "text": [
      "{'certificate_number': 9304489, 'business_name': 'UNNAMED HOT DOG VENDOR LICENSE NUMBER TA01158'}\n",
      "{'certificate_number': 9304816, 'business_name': 'UNNAMED HOT DOG VENDOR NO LICENSE NUMBER PROVIDED'}\n",
      "{'certificate_number': 9287092, 'business_name': 'BISHWANATH BISWAS'}\n",
      "{'certificate_number': 9287090, 'business_name': 'GRICEYDA M VILLAR'}\n",
      "{'certificate_number': 5381180, 'business_name': 'ERIC CONSTRUCTION AND DECORATING INC.'}\n"
     ]
    }
   ],
   "source": [
    "Output_head(result3, 5)"
   ]
  },
  {
   "cell_type": "markdown",
   "id": "910d66a1-321c-4143-9781-a28f4b30eb68",
   "metadata": {},
   "source": [
    "---------"
   ]
  },
  {
   "cell_type": "markdown",
   "id": "60eed3b6-c139-4d93-905b-7a994d96f3e0",
   "metadata": {},
   "source": [
    "Q4. Find all businesses where the `result` is \"Violation Issued\"."
   ]
  },
  {
   "cell_type": "code",
   "execution_count": 70,
   "id": "5d86906a-116e-4cff-b335-137d87b99f0a",
   "metadata": {},
   "outputs": [],
   "source": [
    "query4 = {\"result\": \"Violation Issued\"}"
   ]
  },
  {
   "cell_type": "code",
   "execution_count": 71,
   "id": "5554cd73-285d-4fb5-a037-3a0710077096",
   "metadata": {},
   "outputs": [],
   "source": [
    "projection4 = {}"
   ]
  },
  {
   "cell_type": "code",
   "execution_count": 72,
   "id": "aca137a1-8978-40f7-a55e-e0da6a4bc421",
   "metadata": {},
   "outputs": [],
   "source": [
    "result4 = myCollection.find(query4, projection4)"
   ]
  },
  {
   "cell_type": "code",
   "execution_count": 85,
   "id": "99073fee-970b-4e0b-8b21-df040eff9498",
   "metadata": {},
   "outputs": [
    {
     "name": "stdout",
     "output_type": "stream",
     "text": [
      "{'_id': ObjectId('56d61033a378eccde8a83593'),\n",
      " 'address': {'city': 'SOUTH RICHMOND HILL',\n",
      "             'number': 10718,\n",
      "             'street': '123RD ST',\n",
      "             'zip': 11419},\n",
      " 'business_name': 'REMARK HOME IMPROVEMENT',\n",
      " 'certificate_number': 5381174,\n",
      " 'date': 'Sep  1 2015',\n",
      " 'id': '11666-2015-CMPL',\n",
      " 'result': 'Violation Issued',\n",
      " 'sector': 'Home Improvement Contractor - 100'}\n",
      "------------------------------------------------------------\n",
      "\n",
      "{'_id': ObjectId('56d61033a378eccde8a83594'),\n",
      " 'address': {'city': 'ASTORIA',\n",
      "             'number': 3520,\n",
      "             'street': '35TH ST',\n",
      "             'zip': 11106},\n",
      " 'business_name': 'ELSAMANODY TAMER',\n",
      " 'certificate_number': 5381876,\n",
      " 'date': 'Aug 27 2015',\n",
      " 'id': '12003-2015-CMPL',\n",
      " 'result': 'Violation Issued',\n",
      " 'sector': 'Mobile Food Vendor - 881'}\n",
      "------------------------------------------------------------\n",
      "\n"
     ]
    }
   ],
   "source": [
    "Output_head(result4, 2)"
   ]
  },
  {
   "cell_type": "markdown",
   "id": "fd4fa9cb-17e5-4432-83dc-43cd2109fd1f",
   "metadata": {},
   "source": [
    "--------"
   ]
  },
  {
   "cell_type": "markdown",
   "id": "afde3e87-6cd1-4051-8844-80218c2ae856",
   "metadata": {},
   "source": [
    "**Q5. Find all businesses where the `result` is \"No Violation Issued\".**"
   ]
  },
  {
   "cell_type": "code",
   "execution_count": 86,
   "id": "f680a5f8-ed34-4104-83a3-f485de454d4a",
   "metadata": {},
   "outputs": [],
   "source": [
    "query5 = {\"result\": \"No Violation Issued\"}"
   ]
  },
  {
   "cell_type": "code",
   "execution_count": 87,
   "id": "fdd16cc4-ccbf-4227-9aa6-51b93723c1ac",
   "metadata": {},
   "outputs": [],
   "source": [
    "projection5 = {}"
   ]
  },
  {
   "cell_type": "code",
   "execution_count": 88,
   "id": "07d1f154-9a4a-45a7-b476-389374787f32",
   "metadata": {},
   "outputs": [],
   "source": [
    "result5 = myCollection.find(query5, projection5)"
   ]
  },
  {
   "cell_type": "code",
   "execution_count": 90,
   "id": "0fae478e-20cb-43cd-85e5-ac59c90c415d",
   "metadata": {},
   "outputs": [
    {
     "name": "stdout",
     "output_type": "stream",
     "text": [
      "{'_id': ObjectId('56d61033a378eccde8a83560'),\n",
      " 'address': {'city': 'JERSEY CITY',\n",
      "             'number': 160,\n",
      "             'street': 'VROOM ST',\n",
      "             'zip': 7306},\n",
      " 'business_name': 'AZMY KIROLES',\n",
      " 'certificate_number': 9318079,\n",
      " 'date': 'Dec 23 2015',\n",
      " 'id': '1044-2016-ENFO',\n",
      " 'result': 'No Violation Issued',\n",
      " 'sector': 'Mobile Food Vendor - 881'}\n",
      "------------------------------------------------------------\n",
      "\n",
      "{'_id': ObjectId('56d61033a378eccde8a8355f'),\n",
      " 'address': {'city': 'BRONX',\n",
      "             'number': 2234,\n",
      "             'street': 'PALMER AVE',\n",
      "             'zip': 10475},\n",
      " 'business_name': 'LISANDRO CABRERA',\n",
      " 'certificate_number': 9304139,\n",
      " 'date': 'Jul 17 2015',\n",
      " 'id': '10423-2015-CMPL',\n",
      " 'result': 'No Violation Issued',\n",
      " 'sector': 'Mobile Food Vendor - 881'}\n",
      "------------------------------------------------------------\n",
      "\n"
     ]
    }
   ],
   "source": [
    "Output_head(result5, 2)"
   ]
  },
  {
   "cell_type": "markdown",
   "id": "1920421e-d805-4005-9b63-3c3c4627cb2c",
   "metadata": {},
   "source": [
    "-----------"
   ]
  },
  {
   "cell_type": "markdown",
   "id": "c84dd7ac-1882-40d9-bbfd-0958f8dbb875",
   "metadata": {},
   "source": [
    "**Q6. List all unique values in the `sector` field.**"
   ]
  },
  {
   "cell_type": "code",
   "execution_count": 91,
   "id": "e5b63f09-8a4b-4069-92dc-69aff4b317a9",
   "metadata": {},
   "outputs": [],
   "source": [
    "result6 = myCollection.distinct(\"sector\")"
   ]
  },
  {
   "cell_type": "code",
   "execution_count": 97,
   "id": "9b9a4cf3-f9cd-4277-8db9-66842dd24996",
   "metadata": {},
   "outputs": [
    {
     "name": "stdout",
     "output_type": "stream",
     "text": [
      "''\n",
      "------------------------------------------------------------\n",
      "\n",
      "'Air Condtioning Law - 899'\n",
      "------------------------------------------------------------\n",
      "\n",
      "'Amusement Arcade - 014'\n",
      "------------------------------------------------------------\n",
      "\n"
     ]
    }
   ],
   "source": [
    "Output_head(result6, 3)"
   ]
  },
  {
   "cell_type": "markdown",
   "id": "c8b8e17b-cdbc-4e23-b8cb-1dfe06cc1527",
   "metadata": {},
   "source": [
    "--------"
   ]
  },
  {
   "cell_type": "markdown",
   "id": "83b6c95d-dad9-459e-af3f-9f9344b19f6b",
   "metadata": {},
   "source": [
    "**Q7. Retrieve all documents where the `address.city` is \"QUEENS VLG\".**"
   ]
  },
  {
   "cell_type": "code",
   "execution_count": 98,
   "id": "54bb7e63-109c-4bfd-9bd2-1ac36d632f77",
   "metadata": {},
   "outputs": [],
   "source": [
    "query7 = {\"address.city\": \"QUEENS VLG\"}"
   ]
  },
  {
   "cell_type": "code",
   "execution_count": 99,
   "id": "5a68fb46-9789-43d6-a644-cdfb275380db",
   "metadata": {},
   "outputs": [],
   "source": [
    "result7 = myCollection.find(query7)"
   ]
  },
  {
   "cell_type": "code",
   "execution_count": 101,
   "id": "54a04900-3270-4165-9fde-914b94877b77",
   "metadata": {
    "scrolled": true
   },
   "outputs": [
    {
     "name": "stdout",
     "output_type": "stream",
     "text": [
      "{'_id': ObjectId('56d61033a378eccde8a83a25'),\n",
      " 'address': {'city': 'QUEENS VLG',\n",
      "             'number': 10126,\n",
      "             'street': '217TH PL',\n",
      "             'zip': 11429},\n",
      " 'business_name': 'AHMED, CHAUDHRY I',\n",
      " 'certificate_number': 9316871,\n",
      " 'date': 'Jun 20 2015',\n",
      " 'id': '36328-2015-ENFO',\n",
      " 'result': 'No Violation Issued',\n",
      " 'sector': 'Home Improvement Contractor - 100'}\n",
      "------------------------------------------------------------\n",
      "\n",
      "{'_id': ObjectId('56d61033a378eccde8a84006'),\n",
      " 'address': {'city': 'QUEENS VLG',\n",
      "             'number': 21025,\n",
      "             'street': 'JAMAICA AVE',\n",
      "             'zip': 11428},\n",
      " 'business_name': 'MEJIA, NELSON RAMON',\n",
      " 'certificate_number': 9273157,\n",
      " 'date': 'Jun 16 2015',\n",
      " 'id': '67625-2014-ENFO',\n",
      " 'result': 'No Violation Issued',\n",
      " 'sector': 'Electronic Store - 001'}\n",
      "------------------------------------------------------------\n",
      "\n"
     ]
    }
   ],
   "source": [
    "Output_head(result7, 2)"
   ]
  },
  {
   "cell_type": "markdown",
   "id": "b8e91e11-b071-4067-a4cc-9a2bbf074480",
   "metadata": {},
   "source": [
    "-----------------"
   ]
  },
  {
   "cell_type": "markdown",
   "id": "34a71f8b-80e6-4d64-9ddf-394f59c12ed9",
   "metadata": {},
   "source": [
    "**Q8. Retrieve all documents where the `address.zip` is 11428.**"
   ]
  },
  {
   "cell_type": "code",
   "execution_count": 103,
   "id": "84c96394-6765-4586-aaff-092733548fd8",
   "metadata": {},
   "outputs": [],
   "source": [
    "query8 = {\"address.zip\": 11428}"
   ]
  },
  {
   "cell_type": "code",
   "execution_count": 104,
   "id": "f68d523a-c051-4e63-b287-cc27508b69b0",
   "metadata": {},
   "outputs": [],
   "source": [
    "projection8 = {}"
   ]
  },
  {
   "cell_type": "code",
   "execution_count": 105,
   "id": "437e4988-b8b1-4a42-93c1-b516a321c220",
   "metadata": {},
   "outputs": [],
   "source": [
    "result8 = myCollection.find(query8, projection8)"
   ]
  },
  {
   "cell_type": "code",
   "execution_count": 107,
   "id": "6ff7c8e8-686c-4371-962b-c719fd005fdd",
   "metadata": {
    "scrolled": true
   },
   "outputs": [
    {
     "name": "stdout",
     "output_type": "stream",
     "text": [
      "{'_id': ObjectId('56d61033a378eccde8a83552'),\n",
      " 'address': {'city': 'QUEENS VLG',\n",
      "             'number': 9440,\n",
      "             'street': '210TH ST',\n",
      "             'zip': 11428},\n",
      " 'business_name': 'A&C CHIMNEY CORP.',\n",
      " 'certificate_number': 5346909,\n",
      " 'date': 'Apr 22 2015',\n",
      " 'id': '1012-2015-CMPL',\n",
      " 'result': 'Violation Issued',\n",
      " 'sector': 'Home Improvement Contractor - 100'}\n",
      "------------------------------------------------------------\n",
      "\n",
      "{'_id': ObjectId('56d61033a378eccde8a8394d'),\n",
      " 'address': {'city': 'QUEENS VILLAGE',\n",
      "             'number': 9130,\n",
      "             'street': '221ST PL',\n",
      "             'zip': 11428},\n",
      " 'business_name': 'MD HOSSAIN',\n",
      " 'certificate_number': 9285676,\n",
      " 'date': 'Jun  8 2015',\n",
      " 'id': '33685-2015-ENFO',\n",
      " 'result': 'No Violation Issued',\n",
      " 'sector': 'Mobile Food Vendor - 881'}\n",
      "------------------------------------------------------------\n",
      "\n"
     ]
    }
   ],
   "source": [
    "Output_head(result8, 2)"
   ]
  },
  {
   "cell_type": "markdown",
   "id": "25926cdb-5392-468a-921c-4555e5eb5e7b",
   "metadata": {},
   "source": [
    "-------"
   ]
  },
  {
   "cell_type": "markdown",
   "id": "bcb4c300-cb96-424d-8322-66198b958d0a",
   "metadata": {},
   "source": [
    "**Q9. Retrieve all documents where the `sector` is \"Cigarette Retail Dealer - 127\".**"
   ]
  },
  {
   "cell_type": "code",
   "execution_count": 109,
   "id": "aaaa1d37-e0f1-4e06-8e8e-685b7a60d5e8",
   "metadata": {},
   "outputs": [],
   "source": [
    "query9 = {\"sector\": \"Cigrarette Retail Dealer - 127\"}"
   ]
  },
  {
   "cell_type": "code",
   "execution_count": 118,
   "id": "eb3efaa7-010d-42ca-9019-3bbbb7160d8c",
   "metadata": {},
   "outputs": [],
   "source": [
    "result9 = myCollection.find(query9)"
   ]
  },
  {
   "cell_type": "code",
   "execution_count": 113,
   "id": "f57c1cf1-bfb8-45ea-821c-474ad7ba026e",
   "metadata": {},
   "outputs": [],
   "source": [
    "Output_head(result9, 2)"
   ]
  },
  {
   "cell_type": "code",
   "execution_count": 119,
   "id": "c1ebeafe-edce-4055-9c7a-67d2166f054b",
   "metadata": {},
   "outputs": [
    {
     "data": {
      "text/plain": [
       "0"
      ]
     },
     "execution_count": 119,
     "metadata": {},
     "output_type": "execute_result"
    }
   ],
   "source": [
    "len(list(result9))"
   ]
  },
  {
   "cell_type": "markdown",
   "id": "8920d9b2-5acc-43cd-a0bc-09437dccf331",
   "metadata": {},
   "source": [
    "> the result is empty"
   ]
  },
  {
   "cell_type": "markdown",
   "id": "686ed085-a436-41cc-a852-1bd9836d70e8",
   "metadata": {},
   "source": [
    "--------"
   ]
  },
  {
   "cell_type": "markdown",
   "id": "8366e04c-827c-423b-ade6-5d35fe9518af",
   "metadata": {},
   "source": [
    "**Q10 - Find the business with the `certificate_number` 5381180**"
   ]
  },
  {
   "cell_type": "code",
   "execution_count": 120,
   "id": "a6883884-fad7-44fa-8da0-ab8bb572ae5d",
   "metadata": {},
   "outputs": [],
   "source": [
    "query10 = {\"certificate_number\": 5381180}"
   ]
  },
  {
   "cell_type": "code",
   "execution_count": 128,
   "id": "f842267a-c75c-4b36-86a6-3dec78b93fa2",
   "metadata": {},
   "outputs": [],
   "source": [
    "result10 = myCollection.find(query10)"
   ]
  },
  {
   "cell_type": "code",
   "execution_count": 129,
   "id": "0382fadf-eabb-485b-9006-c1af07a37869",
   "metadata": {},
   "outputs": [
    {
     "name": "stdout",
     "output_type": "stream",
     "text": [
      "{'_id': ObjectId('56d61033a378eccde8a83553'),\n",
      " 'address': {'city': 'STATEN ISLAND',\n",
      "             'number': 1233,\n",
      "             'street': 'TODT HILL RD',\n",
      "             'zip': 10304},\n",
      " 'business_name': 'ERIC CONSTRUCTION AND DECORATING INC.',\n",
      " 'certificate_number': 5381180,\n",
      " 'date': 'Sep  8 2015',\n",
      " 'id': '10127-2015-CMPL',\n",
      " 'result': 'Violation Issued',\n",
      " 'sector': 'Home Improvement Contractor - 100'}\n",
      "------------------------------------------------------------\n",
      "\n"
     ]
    }
   ],
   "source": [
    "Output_head(result10, 1)"
   ]
  },
  {
   "cell_type": "markdown",
   "id": "302d2664-5a81-4bba-9be4-d9262f104597",
   "metadata": {},
   "source": [
    "--------"
   ]
  },
  {
   "cell_type": "markdown",
   "id": "09af6bfb-ec10-4da9-8e2d-3a16d5df11b1",
   "metadata": {},
   "source": [
    "__Q11. Retrieve the `id` and `date` for all businesses.__"
   ]
  },
  {
   "cell_type": "code",
   "execution_count": 131,
   "id": "50660c97-7380-4bec-903b-7435c8737b7a",
   "metadata": {},
   "outputs": [],
   "source": [
    "query11 = {}"
   ]
  },
  {
   "cell_type": "code",
   "execution_count": 138,
   "id": "3add1a8a-64e8-4798-9837-9f52c64fdc2a",
   "metadata": {},
   "outputs": [],
   "source": [
    "projection11 = {\"id\": 1, \n",
    "                \"_id\": 0,\n",
    "                \"date\": 1}"
   ]
  },
  {
   "cell_type": "code",
   "execution_count": 139,
   "id": "35209c59-841d-41b7-8d20-814f5df2572b",
   "metadata": {},
   "outputs": [],
   "source": [
    "result11 = myCollection.find(query11, projection11)"
   ]
  },
  {
   "cell_type": "code",
   "execution_count": 142,
   "id": "68437d4d-9cdf-4eab-ab79-8c2a39913813",
   "metadata": {},
   "outputs": [
    {
     "name": "stdout",
     "output_type": "stream",
     "text": [
      "{'date': 'Feb 26 2015', 'id': '10391-2015-ENFO'}\n",
      "------------------------------------------------------------\n",
      "\n",
      "{'date': 'Dec 23 2015', 'id': '1044-2016-ENFO'}\n",
      "------------------------------------------------------------\n",
      "\n",
      "{'date': 'Jul 17 2015', 'id': '10423-2015-CMPL'}\n",
      "------------------------------------------------------------\n",
      "\n",
      "{'date': 'Jul 22 2015', 'id': '1044-2015-CMPL'}\n",
      "------------------------------------------------------------\n",
      "\n"
     ]
    }
   ],
   "source": [
    "Output_head(result11, 4)"
   ]
  },
  {
   "cell_type": "markdown",
   "id": "eafc9b1a-084e-407a-b7ba-6b9062d02636",
   "metadata": {},
   "source": [
    "-----"
   ]
  },
  {
   "cell_type": "markdown",
   "id": "f0779e8d-22e0-4ba0-bb30-6ffb64aa5efa",
   "metadata": {},
   "source": [
    "__Q12. Find all documents where the `certificate_number` is exactly 9278806.__"
   ]
  },
  {
   "cell_type": "code",
   "execution_count": 143,
   "id": "a3a7e3db-9545-4eee-945f-917ed5192256",
   "metadata": {},
   "outputs": [],
   "source": [
    "query12 = {\"certificate_number\": 9278806}"
   ]
  },
  {
   "cell_type": "code",
   "execution_count": 149,
   "id": "a9995d7d-97ab-4ca1-9ffe-dd73966f2ced",
   "metadata": {},
   "outputs": [],
   "source": [
    "result12 = myCollection.find(query12)"
   ]
  },
  {
   "cell_type": "code",
   "execution_count": 150,
   "id": "772f1b9f-102d-48f3-bde1-1acea265691d",
   "metadata": {},
   "outputs": [
    {
     "name": "stdout",
     "output_type": "stream",
     "text": [
      "{'_id': ObjectId('56d61033a378eccde8a8354f'),\n",
      " 'address': {'city': 'RIDGEWOOD',\n",
      "             'number': 1712,\n",
      "             'street': 'MENAHAN ST',\n",
      "             'zip': 11385},\n",
      " 'business_name': 'ATLIXCO DELI GROCERY INC.',\n",
      " 'certificate_number': 9278806,\n",
      " 'date': 'Feb 20 2015',\n",
      " 'id': '10021-2015-ENFO',\n",
      " 'result': 'No Violation Issued',\n",
      " 'sector': 'Cigarette Retail Dealer - 127'}\n",
      "------------------------------------------------------------\n",
      "\n"
     ]
    }
   ],
   "source": [
    "Output_head(result12, 2)"
   ]
  },
  {
   "cell_type": "markdown",
   "id": "6722d84c-6bc4-4863-9a88-30ee86642499",
   "metadata": {},
   "source": [
    "--------"
   ]
  },
  {
   "cell_type": "markdown",
   "id": "d9a4dc16-f6c9-4bb8-aa34-5285608df966",
   "metadata": {},
   "source": [
    "__Q13. List all businesses whose `address.city` is \"NEW YORK\".__"
   ]
  },
  {
   "cell_type": "code",
   "execution_count": 151,
   "id": "033f6083-bb69-474f-b96f-c733af448e26",
   "metadata": {},
   "outputs": [],
   "source": [
    "query13 = {\"address.city\": \"NEW YORK\"}"
   ]
  },
  {
   "cell_type": "code",
   "execution_count": 152,
   "id": "d059330b-67bc-45f2-954d-7dd2ce252586",
   "metadata": {},
   "outputs": [],
   "source": [
    "result13 = myCollection.find(query13)"
   ]
  },
  {
   "cell_type": "code",
   "execution_count": 153,
   "id": "15450281-12c4-4ffa-ae2f-ada97472e6dd",
   "metadata": {},
   "outputs": [
    {
     "name": "stdout",
     "output_type": "stream",
     "text": [
      "{'_id': ObjectId('56d61033a378eccde8a83558'),\n",
      " 'address': {'city': 'NEW YORK',\n",
      "             'number': 2645,\n",
      "             'street': 'FREDRCK D BLVD',\n",
      "             'zip': 10030},\n",
      " 'business_name': 'GRICEYDA M VILLAR',\n",
      " 'certificate_number': 9287090,\n",
      " 'date': 'Feb 25 2015',\n",
      " 'id': '10312-2015-ENFO',\n",
      " 'result': 'No Violation Issued',\n",
      " 'sector': 'Salons And Barbershop - 841'}\n",
      "------------------------------------------------------------\n",
      "\n",
      "{'_id': ObjectId('56d61033a378eccde8a83567'),\n",
      " 'address': {'city': 'NEW YORK',\n",
      "             'number': 2254,\n",
      "             'street': '2ND AVE',\n",
      "             'zip': 10029},\n",
      " 'business_name': 'EAGLE TILE & HOME CENTER, INC.',\n",
      " 'certificate_number': 9302188,\n",
      " 'date': 'Mar  2 2015',\n",
      " 'id': '10559-2015-ENFO',\n",
      " 'result': 'No Violation Issued',\n",
      " 'sector': 'Home Improvement Contractor - 100'}\n",
      "------------------------------------------------------------\n",
      "\n"
     ]
    }
   ],
   "source": [
    "Output_head(result13, 2)"
   ]
  },
  {
   "cell_type": "markdown",
   "id": "f5868da7-b63f-4718-9598-3a94c685c623",
   "metadata": {},
   "source": [
    "--------"
   ]
  },
  {
   "cell_type": "markdown",
   "id": "a7d35bca-5efc-41e8-bb6a-cbb1dc2007d8",
   "metadata": {},
   "source": [
    "__Q14. Find all documents where the `address.street` is \"214TH ST\".__"
   ]
  },
  {
   "cell_type": "code",
   "execution_count": 154,
   "id": "8fa30070-54b9-4151-9655-a51a28ffab65",
   "metadata": {},
   "outputs": [],
   "source": [
    "query14 = {\"address.street\": \"214TH ST\"}"
   ]
  },
  {
   "cell_type": "code",
   "execution_count": 192,
   "id": "eed6e689-ec0b-4b9a-9164-c954a8feabf3",
   "metadata": {},
   "outputs": [],
   "source": [
    "result14 = myCollection.find(query14)"
   ]
  },
  {
   "cell_type": "code",
   "execution_count": 193,
   "id": "05a34854-5c1e-4678-8c93-bf07237fc019",
   "metadata": {},
   "outputs": [
    {
     "name": "stdout",
     "output_type": "stream",
     "text": [
      "{'_id': ObjectId('56d61033a378eccde8a83551'),\n",
      " 'address': {'city': 'QUEENS VLG',\n",
      "             'number': 8823,\n",
      "             'street': '214TH ST',\n",
      "             'zip': 11427},\n",
      " 'business_name': 'MICHAEL GOMEZ RANGHALL',\n",
      " 'certificate_number': 9278914,\n",
      " 'date': 'Feb 10 2015',\n",
      " 'id': '10084-2015-ENFO',\n",
      " 'result': 'No Violation Issued',\n",
      " 'sector': 'Locksmith - 062'}\n",
      "------------------------------------------------------------\n",
      "\n"
     ]
    }
   ],
   "source": [
    "Output_head(result14, 2)"
   ]
  },
  {
   "cell_type": "markdown",
   "id": "97da1ec6-7cf3-4d2b-a67b-ba940559fe8a",
   "metadata": {},
   "source": [
    "-------------"
   ]
  },
  {
   "cell_type": "markdown",
   "id": "96c59d9d-f978-4d27-bc6a-3adf89307c7e",
   "metadata": {},
   "source": [
    "__Q15. Retrieve the `business_name` and `sector` of all businesses inspected after \"Feb 15 2015\".__"
   ]
  },
  {
   "cell_type": "code",
   "execution_count": 15,
   "id": "4ca453db-e7b4-4f86-8fa7-6e823d5ef72b",
   "metadata": {},
   "outputs": [],
   "source": [
    "query15 = {\"date\": {\"$gt\": datetime(2015, 2, 1)}}"
   ]
  },
  {
   "cell_type": "code",
   "execution_count": 16,
   "id": "d7ef60eb-73a2-4177-8155-9f7299670684",
   "metadata": {},
   "outputs": [],
   "source": [
    "projection15 = {\"_id\": 0,\n",
    "               \"business_name\": 1,\n",
    "               \"sector\": 1}"
   ]
  },
  {
   "cell_type": "code",
   "execution_count": 17,
   "id": "ace108b6-6c2f-4c82-8c18-da4df9d2f7bb",
   "metadata": {},
   "outputs": [],
   "source": [
    "result15 = myCollection.find(query15, projection15)"
   ]
  },
  {
   "cell_type": "code",
   "execution_count": 18,
   "id": "3809abf7-fc24-4312-8132-f097ce534886",
   "metadata": {},
   "outputs": [
    {
     "name": "stdout",
     "output_type": "stream",
     "text": [
      "{'business_name': 'UNNAMED HOT DOG VENDOR LICENSE NUMBER TA01158',\n",
      " 'sector': 'Mobile Food Vendor - 881'}\n",
      "------------------------------------------------------------\n",
      "\n",
      "{'business_name': 'UNNAMED HOT DOG VENDOR NO LICENSE NUMBER PROVIDED',\n",
      " 'sector': 'Mobile Food Vendor - 881'}\n",
      "------------------------------------------------------------\n",
      "\n"
     ]
    }
   ],
   "source": [
    "Output_head(result15, 2)"
   ]
  },
  {
   "cell_type": "markdown",
   "id": "18d3b8f3-85e0-4db5-9908-82d96200061c",
   "metadata": {},
   "source": [
    "---"
   ]
  },
  {
   "cell_type": "markdown",
   "id": "a6d5f0c6-a93c-4dcc-ba9d-923426b6fb59",
   "metadata": {},
   "source": [
    "__Q16. Find documents where the `business_name` starts with the letter \"A\".__"
   ]
  },
  {
   "cell_type": "code",
   "execution_count": 37,
   "id": "c0723116-73ea-4dfe-a4e6-6b24c3671b90",
   "metadata": {},
   "outputs": [],
   "source": [
    "query16 = {\"business_name\": {\"$regex\": re.compile(\"^A\")}}"
   ]
  },
  {
   "cell_type": "code",
   "execution_count": 38,
   "id": "7cd0f5e5-0dcc-40aa-b36e-48fb1d5b79ff",
   "metadata": {},
   "outputs": [],
   "source": [
    "result16 = myCollection.find(query16)"
   ]
  },
  {
   "cell_type": "code",
   "execution_count": 40,
   "id": "5688be80-149a-4c99-8ac7-64c5dee3c07d",
   "metadata": {
    "scrolled": true
   },
   "outputs": [
    {
     "name": "stdout",
     "output_type": "stream",
     "text": [
      "{'_id': ObjectId('56d61033a378eccde8a8355a'),\n",
      " 'address': {'city': 'JERSEY CITY',\n",
      "             'number': 70,\n",
      "             'street': 'TONNELE AVE',\n",
      "             'zip': 7306},\n",
      " 'business_name': 'AYAD YOUSSEF',\n",
      " 'certificate_number': 9305498,\n",
      " 'date': datetime.datetime(2015, 7, 23, 0, 0),\n",
      " 'id': '10290-2015-CMPL',\n",
      " 'result': 'No Violation Issued',\n",
      " 'sector': 'Mobile Food Vendor - 881'}\n",
      "------------------------------------------------------------\n",
      "\n",
      "{'_id': ObjectId('56d61033a378eccde8a8354f'),\n",
      " 'address': {'city': 'RIDGEWOOD',\n",
      "             'number': 1712,\n",
      "             'street': 'MENAHAN ST',\n",
      "             'zip': 11385},\n",
      " 'business_name': 'ATLIXCO DELI GROCERY INC.',\n",
      " 'certificate_number': 9278806,\n",
      " 'date': datetime.datetime(2015, 2, 20, 0, 0),\n",
      " 'id': '10021-2015-ENFO',\n",
      " 'result': 'No Violation Issued',\n",
      " 'sector': 'Cigarette Retail Dealer - 127'}\n",
      "------------------------------------------------------------\n",
      "\n"
     ]
    }
   ],
   "source": [
    "Output_head(result16, 2)"
   ]
  },
  {
   "cell_type": "markdown",
   "id": "69d0e668-d610-417f-a3bb-640cd7b3d5ff",
   "metadata": {},
   "source": [
    "-------"
   ]
  },
  {
   "cell_type": "markdown",
   "id": "3e8439bc-1b61-4633-8282-8bfa60ea03a1",
   "metadata": {},
   "source": [
    "__Q17. List all documents where the `result` is either \"Violation Issued\" or \"No Violation Issued\".__"
   ]
  },
  {
   "cell_type": "code",
   "execution_count": 48,
   "id": "c3a94fb0-b5e9-4f82-9fad-2f25beff082d",
   "metadata": {},
   "outputs": [],
   "source": [
    "query17 = {\"$or\": [{\"result\": \"Violation Issued\"}, {\"result\": \"No Violation Issued\"}]}"
   ]
  },
  {
   "cell_type": "code",
   "execution_count": 49,
   "id": "cffe34ee-49c1-4f0a-9d46-7a4d92ef1d80",
   "metadata": {},
   "outputs": [],
   "source": [
    "result17 = myCollection.find(query17)"
   ]
  },
  {
   "cell_type": "code",
   "execution_count": 51,
   "id": "18532258-78e1-42bb-b698-805c87056bb9",
   "metadata": {},
   "outputs": [
    {
     "name": "stdout",
     "output_type": "stream",
     "text": [
      "{'_id': ObjectId('56d61033a378eccde8a83556'),\n",
      " 'address': {'city': '', 'number': '', 'street': '', 'zip': ''},\n",
      " 'business_name': 'UNNAMED HOT DOG VENDOR NO LICENSE NUMBER PROVIDED',\n",
      " 'certificate_number': 9304816,\n",
      " 'date': datetime.datetime(2015, 8, 19, 0, 0),\n",
      " 'id': '10268-2015-CMPL',\n",
      " 'result': 'No Violation Issued',\n",
      " 'sector': 'Mobile Food Vendor - 881'}\n",
      "------------------------------------------------------------\n",
      "\n",
      "{'_id': ObjectId('56d61033a378eccde8a8355b'),\n",
      " 'address': {'city': 'ELMHURST',\n",
      "             'number': 4157,\n",
      "             'street': '75TH ST',\n",
      "             'zip': 11373},\n",
      " 'business_name': 'BISHWANATH BISWAS',\n",
      " 'certificate_number': 9287092,\n",
      " 'date': datetime.datetime(2015, 2, 25, 0, 0),\n",
      " 'id': '10318-2015-ENFO',\n",
      " 'result': 'No Violation Issued',\n",
      " 'sector': 'Mobile Food Vendor - 881'}\n",
      "------------------------------------------------------------\n",
      "\n"
     ]
    }
   ],
   "source": [
    "Output_head(result17, 2)"
   ]
  },
  {
   "cell_type": "markdown",
   "id": "0cf6c06b-ffac-4119-8f32-19880fb5af54",
   "metadata": {},
   "source": [
    "----------"
   ]
  },
  {
   "cell_type": "markdown",
   "id": "660e06c0-1a42-4a65-9aa7-bb69c3aee172",
   "metadata": {},
   "source": [
    "__Q18. Count the total number of businesses in the collection.__"
   ]
  },
  {
   "cell_type": "code",
   "execution_count": 53,
   "id": "5ebb7f8b-8cfb-47f3-b190-3e9276d0b0ee",
   "metadata": {},
   "outputs": [],
   "source": [
    "result18 = myCollection.count_documents({})"
   ]
  },
  {
   "cell_type": "code",
   "execution_count": 56,
   "id": "e2000d20-0621-49c1-9ccd-7c8fb9323df0",
   "metadata": {},
   "outputs": [
    {
     "data": {
      "text/plain": [
       "81047"
      ]
     },
     "execution_count": 56,
     "metadata": {},
     "output_type": "execute_result"
    }
   ],
   "source": [
    "result18"
   ]
  },
  {
   "cell_type": "markdown",
   "id": "770aad5a-b3bc-4d00-a163-f7ac31fa25c2",
   "metadata": {},
   "source": [
    "-----"
   ]
  },
  {
   "cell_type": "markdown",
   "id": "0dc34b4d-9010-47fb-9e95-800c55359813",
   "metadata": {},
   "source": [
    "__Q19. Retrieve businesses whose `address.zip` code is between 10000 and 12000__"
   ]
  },
  {
   "cell_type": "code",
   "execution_count": 60,
   "id": "6072660f-e16b-47a6-a2fe-7391564c007b",
   "metadata": {},
   "outputs": [],
   "source": [
    "query19 = {\"$and\": [{\"address.zip\": {\"$lt\": 12000}}, {\"address.zip\": {\"$gt\": 10000}}]}"
   ]
  },
  {
   "cell_type": "code",
   "execution_count": 61,
   "id": "3e52028e-b67d-4024-9ce8-08ac32edbb2d",
   "metadata": {},
   "outputs": [],
   "source": [
    "result19 = myCollection.find(query19)"
   ]
  },
  {
   "cell_type": "code",
   "execution_count": 63,
   "id": "537223ef-df9d-4ab6-a56b-1e218be74d1b",
   "metadata": {},
   "outputs": [
    {
     "name": "stdout",
     "output_type": "stream",
     "text": [
      "{'_id': ObjectId('56d61033a378eccde8a83558'),\n",
      " 'address': {'city': 'NEW YORK',\n",
      "             'number': 2645,\n",
      "             'street': 'FREDRCK D BLVD',\n",
      "             'zip': 10030},\n",
      " 'business_name': 'GRICEYDA M VILLAR',\n",
      " 'certificate_number': 9287090,\n",
      " 'date': datetime.datetime(2015, 2, 25, 0, 0),\n",
      " 'id': '10312-2015-ENFO',\n",
      " 'result': 'No Violation Issued',\n",
      " 'sector': 'Salons And Barbershop - 841'}\n",
      "------------------------------------------------------------\n",
      "\n",
      "{'_id': ObjectId('56d61033a378eccde8a83553'),\n",
      " 'address': {'city': 'STATEN ISLAND',\n",
      "             'number': 1233,\n",
      "             'street': 'TODT HILL RD',\n",
      "             'zip': 10304},\n",
      " 'business_name': 'ERIC CONSTRUCTION AND DECORATING INC.',\n",
      " 'certificate_number': 5381180,\n",
      " 'date': datetime.datetime(2015, 9, 8, 0, 0),\n",
      " 'id': '10127-2015-CMPL',\n",
      " 'result': 'Violation Issued',\n",
      " 'sector': 'Home Improvement Contractor - 100'}\n",
      "------------------------------------------------------------\n",
      "\n"
     ]
    }
   ],
   "source": [
    "Output_head(result19, 2)"
   ]
  },
  {
   "cell_type": "markdown",
   "id": "ccc1d2e0-3345-4bcf-8fbc-ec7d0bd0c3bf",
   "metadata": {},
   "source": [
    "--------"
   ]
  },
  {
   "cell_type": "markdown",
   "id": "a93a7a89-e0fc-4cc3-908f-dfd58f61c1b5",
   "metadata": {},
   "source": [
    "__Q20. Find documents where the `address.number` is greater than 9000.__"
   ]
  },
  {
   "cell_type": "code",
   "execution_count": 64,
   "id": "f9620c7c-541e-4974-8535-c4093852f0eb",
   "metadata": {},
   "outputs": [],
   "source": [
    "query20 = {\"address.number\": {\"$gt\": 9000}}"
   ]
  },
  {
   "cell_type": "code",
   "execution_count": 65,
   "id": "e024f3aa-6783-4b13-af12-5e689c287cdd",
   "metadata": {},
   "outputs": [],
   "source": [
    "result20 = myCollection.find(query20)"
   ]
  },
  {
   "cell_type": "code",
   "execution_count": 67,
   "id": "26e281a9-3b01-4d82-87a1-440027626c7c",
   "metadata": {
    "scrolled": true
   },
   "outputs": [
    {
     "name": "stdout",
     "output_type": "stream",
     "text": [
      "{'_id': ObjectId('56d61033a378eccde8a8355c'),\n",
      " 'address': {'city': 'S RICHMOND HL',\n",
      "             'number': 11420,\n",
      "             'street': '101ST AVE',\n",
      "             'zip': 11419},\n",
      " 'business_name': 'H & H FURNITURE',\n",
      " 'certificate_number': 5347333,\n",
      " 'date': datetime.datetime(2015, 4, 29, 0, 0),\n",
      " 'id': '1033-2015-CMPL',\n",
      " 'result': 'Violation Issued',\n",
      " 'sector': 'Home Improvement Contractor - 100'}\n",
      "------------------------------------------------------------\n",
      "\n",
      "{'_id': ObjectId('56d61033a378eccde8a83569'),\n",
      " 'address': {'city': 'SOUTH OZONE PARK',\n",
      "             'number': 12705,\n",
      "             'street': '111TH AVE',\n",
      "             'zip': 11420},\n",
      " 'business_name': 'R&S HOME IMPROVEMENT & CABINETRY INC.',\n",
      " 'certificate_number': 5381188,\n",
      " 'date': datetime.datetime(2015, 11, 6, 0, 0),\n",
      " 'id': '10682-2015-CMPL',\n",
      " 'result': 'Violation Issued',\n",
      " 'sector': 'Home Improvement Contractor - 100'}\n",
      "------------------------------------------------------------\n",
      "\n"
     ]
    }
   ],
   "source": [
    "Output_head(result20, 2)"
   ]
  },
  {
   "cell_type": "markdown",
   "id": "88251b5d-7451-4dae-a6ad-974d4217b360",
   "metadata": {},
   "source": [
    "---------"
   ]
  },
  {
   "cell_type": "markdown",
   "id": "6b82d0f5-012d-4fb7-a5b9-be6054d54f2c",
   "metadata": {},
   "source": [
    "__Q21. Retrieve all documents where the `address.number` is 1233.__"
   ]
  },
  {
   "cell_type": "code",
   "execution_count": 68,
   "id": "f2f9d6c0-74e7-4aad-920d-69ba657a3243",
   "metadata": {},
   "outputs": [],
   "source": [
    "query21 = {\"address.number\": 1233}"
   ]
  },
  {
   "cell_type": "code",
   "execution_count": 69,
   "id": "a6fe885d-25ee-4df5-aa17-cedbbeeebe0f",
   "metadata": {},
   "outputs": [],
   "source": [
    "result21 = myCollection.find(query21)"
   ]
  },
  {
   "cell_type": "code",
   "execution_count": 71,
   "id": "738099a7-4d72-42da-a4fe-7a39a046f6f0",
   "metadata": {
    "scrolled": true
   },
   "outputs": [
    {
     "name": "stdout",
     "output_type": "stream",
     "text": [
      "{'_id': ObjectId('56d61033a378eccde8a837d1'),\n",
      " 'address': {'city': 'STATEN ISLAND',\n",
      "             'number': 1233,\n",
      "             'street': 'TODT HILL RD',\n",
      "             'zip': 10304},\n",
      " 'business_name': 'ERIK CONSTRUCTION & DECORATING INC',\n",
      " 'certificate_number': 9284512,\n",
      " 'date': datetime.datetime(2015, 7, 29, 0, 0),\n",
      " 'id': '3031-2015-CMPL',\n",
      " 'result': 'No Violation Issued',\n",
      " 'sector': 'Home Improvement Contractor - 100'}\n",
      "------------------------------------------------------------\n",
      "\n",
      "{'_id': ObjectId('56d61033a378eccde8a89781'),\n",
      " 'address': {'city': 'NEW YORK',\n",
      "             'number': 1233,\n",
      "             'street': 'LEXINGTON AVE',\n",
      "             'zip': 10028},\n",
      " 'business_name': \"D'AGOSTINO SUPERMARKETS, INC.\",\n",
      " 'certificate_number': 3044068,\n",
      " 'date': datetime.datetime(2015, 8, 12, 0, 0),\n",
      " 'id': '47121-2015-ENFO',\n",
      " 'result': 'Pass',\n",
      " 'sector': 'Supermarket - 819'}\n",
      "------------------------------------------------------------\n",
      "\n"
     ]
    }
   ],
   "source": [
    "Output_head(result21, 2)"
   ]
  },
  {
   "cell_type": "markdown",
   "id": "1d025370-1e65-4d8e-bc49-9565b53dc9f8",
   "metadata": {},
   "source": [
    "------"
   ]
  },
  {
   "cell_type": "markdown",
   "id": "6d80ae1e-a9cb-4de0-832d-9d19ae32fd6f",
   "metadata": {},
   "source": [
    "__Q22. List the `business_name` of businesses whose `sector` contains the word \"Contractor\".__"
   ]
  },
  {
   "cell_type": "code",
   "execution_count": 72,
   "id": "34209f24-8f7e-4c4d-b25e-cc9909ce0e7c",
   "metadata": {},
   "outputs": [],
   "source": [
    "query22 = {\"sector\": {\"$regex\": re.compile(\"Contractor\")}}"
   ]
  },
  {
   "cell_type": "code",
   "execution_count": 73,
   "id": "e7526351-55bd-4e88-85c4-5b7eadfe9495",
   "metadata": {},
   "outputs": [],
   "source": [
    "projection22 = {\"business_name\": 1,\n",
    "               \"_id\": 0}"
   ]
  },
  {
   "cell_type": "code",
   "execution_count": 74,
   "id": "3c819cf9-c250-47d8-99b1-ed1773bf4a0c",
   "metadata": {},
   "outputs": [],
   "source": [
    "result22 = myCollection.find(query22, projection22)"
   ]
  },
  {
   "cell_type": "code",
   "execution_count": 75,
   "id": "8d876951-4f99-495a-8848-0e36955d1fab",
   "metadata": {},
   "outputs": [
    {
     "name": "stdout",
     "output_type": "stream",
     "text": [
      "{'business_name': 'ERIC CONSTRUCTION AND DECORATING INC.'}\n",
      "------------------------------------------------------------\n",
      "\n",
      "{'business_name': 'NEW FINEST BUILDERS INC'}\n",
      "------------------------------------------------------------\n",
      "\n"
     ]
    }
   ],
   "source": [
    "Output_head(result22, 2)"
   ]
  },
  {
   "cell_type": "markdown",
   "id": "74dab0bb-7a17-4df5-af1c-c2b8ffd6b240",
   "metadata": {},
   "source": [
    "---------"
   ]
  },
  {
   "cell_type": "markdown",
   "id": "98663ec6-a961-4303-83a5-1128bea9a988",
   "metadata": {},
   "source": [
    "__Q23. Find businesses where the `address.city` is either \"RIDGEWOOD\" or \"NEW YORK\".__"
   ]
  },
  {
   "cell_type": "code",
   "execution_count": 76,
   "id": "de62771c-6332-4093-97cd-7dc9afbc572c",
   "metadata": {},
   "outputs": [],
   "source": [
    "query23 = {\"address.city\": {\"$in\": [\"RIDGEWOOD\", \"NEW YORK\"]}}"
   ]
  },
  {
   "cell_type": "code",
   "execution_count": 77,
   "id": "58a92aa7-e570-4852-9252-b0632d5ba9c7",
   "metadata": {},
   "outputs": [],
   "source": [
    "result23 = myCollection.find(query23)"
   ]
  },
  {
   "cell_type": "code",
   "execution_count": 79,
   "id": "792410a8-caac-40cb-ac6e-d4a471b6be23",
   "metadata": {
    "scrolled": true
   },
   "outputs": [
    {
     "name": "stdout",
     "output_type": "stream",
     "text": [
      "{'_id': ObjectId('56d61033a378eccde8a83567'),\n",
      " 'address': {'city': 'NEW YORK',\n",
      "             'number': 2254,\n",
      "             'street': '2ND AVE',\n",
      "             'zip': 10029},\n",
      " 'business_name': 'EAGLE TILE & HOME CENTER, INC.',\n",
      " 'certificate_number': 9302188,\n",
      " 'date': datetime.datetime(2015, 3, 2, 0, 0),\n",
      " 'id': '10559-2015-ENFO',\n",
      " 'result': 'No Violation Issued',\n",
      " 'sector': 'Home Improvement Contractor - 100'}\n",
      "------------------------------------------------------------\n",
      "\n",
      "{'_id': ObjectId('56d61033a378eccde8a83559'),\n",
      " 'address': {'city': 'NEW YORK',\n",
      "             'number': 2653,\n",
      "             'street': 'FREDRCK D BLVD',\n",
      "             'zip': 10030},\n",
      " 'business_name': 'NYC CANDY STORE SHOP CORP',\n",
      " 'certificate_number': 9287089,\n",
      " 'date': datetime.datetime(2015, 2, 25, 0, 0),\n",
      " 'id': '10302-2015-ENFO',\n",
      " 'result': 'No Violation Issued',\n",
      " 'sector': 'Cigarette Retail Dealer - 127'}\n",
      "------------------------------------------------------------\n",
      "\n"
     ]
    }
   ],
   "source": [
    "Output_head(result23, 2)"
   ]
  },
  {
   "cell_type": "markdown",
   "id": "b00c0bae-bace-4def-b8be-36bd91194adb",
   "metadata": {},
   "source": [
    "----------"
   ]
  },
  {
   "cell_type": "markdown",
   "id": "9139c469-9ffd-449b-825b-ae788850cf6b",
   "metadata": {},
   "source": [
    "__Q24. Retrieve the `business_name`, `date`, and `result` for all businesses with a `certificate_number` less than 7000000.__"
   ]
  },
  {
   "cell_type": "code",
   "execution_count": 82,
   "id": "2392fb78-ef66-4f74-b176-a132303aa927",
   "metadata": {},
   "outputs": [],
   "source": [
    "query24 = {\"certificate_number\": {\"$lt\": 7000000}}"
   ]
  },
  {
   "cell_type": "code",
   "execution_count": 83,
   "id": "84014e07-8a2e-46b3-a3fb-762fa34f86ce",
   "metadata": {},
   "outputs": [],
   "source": [
    "result24 = myCollection.find(query24)"
   ]
  },
  {
   "cell_type": "code",
   "execution_count": 84,
   "id": "7acc0bd0-fc49-4775-b1c2-85431ef07709",
   "metadata": {},
   "outputs": [
    {
     "name": "stdout",
     "output_type": "stream",
     "text": [
      "{'_id': ObjectId('56d61033a378eccde8a83553'),\n",
      " 'address': {'city': 'STATEN ISLAND',\n",
      "             'number': 1233,\n",
      "             'street': 'TODT HILL RD',\n",
      "             'zip': 10304},\n",
      " 'business_name': 'ERIC CONSTRUCTION AND DECORATING INC.',\n",
      " 'certificate_number': 5381180,\n",
      " 'date': datetime.datetime(2015, 9, 8, 0, 0),\n",
      " 'id': '10127-2015-CMPL',\n",
      " 'result': 'Violation Issued',\n",
      " 'sector': 'Home Improvement Contractor - 100'}\n",
      "------------------------------------------------------------\n",
      "\n",
      "{'_id': ObjectId('56d61033a378eccde8a8355d'),\n",
      " 'address': {'city': 'BROOKLYN',\n",
      "             'number': 1320,\n",
      "             'street': 'E 55TH ST',\n",
      "             'zip': 11234},\n",
      " 'business_name': 'NEW FINEST BUILDERS INC',\n",
      " 'certificate_number': 5381196,\n",
      " 'date': datetime.datetime(2015, 12, 1, 0, 0),\n",
      " 'id': '10351-2015-CMPL',\n",
      " 'result': 'Violation Issued',\n",
      " 'sector': 'Home Improvement Contractor - 100'}\n",
      "------------------------------------------------------------\n",
      "\n"
     ]
    }
   ],
   "source": [
    "Output_head(result24, 2)"
   ]
  },
  {
   "cell_type": "markdown",
   "id": "3a1ad7c1-248f-45c8-8b32-930d63f93974",
   "metadata": {},
   "source": [
    "-----"
   ]
  },
  {
   "cell_type": "markdown",
   "id": "1159e37f-9766-47d2-b0a0-e96a9df5fce2",
   "metadata": {},
   "source": [
    "__Q25. Find all documents sorted by `date` in ascending order.__"
   ]
  },
  {
   "cell_type": "code",
   "execution_count": 85,
   "id": "26ee7184-c38e-4776-bbc3-6789fec72e33",
   "metadata": {},
   "outputs": [],
   "source": [
    "result25 = myCollection.find().sort({\"date\": 1})"
   ]
  },
  {
   "cell_type": "code",
   "execution_count": 86,
   "id": "16c1726b-1b4a-4a46-8535-ae62c07a47c8",
   "metadata": {
    "scrolled": true
   },
   "outputs": [
    {
     "name": "stdout",
     "output_type": "stream",
     "text": [
      "{'_id': ObjectId('56d61033a378eccde8a85083'),\n",
      " 'address': {'city': 'BROOKLYN',\n",
      "             'number': 995,\n",
      "             'street': 'FULTON ST',\n",
      "             'zip': 11238},\n",
      " 'business_name': 'VU QUANG DANG',\n",
      " 'certificate_number': 9277585,\n",
      " 'date': datetime.datetime(2015, 1, 2, 0, 0),\n",
      " 'id': '231-2015-ENFO',\n",
      " 'result': 'Out of Business',\n",
      " 'sector': 'Salons And Barbershop - 841'}\n",
      "------------------------------------------------------------\n",
      "\n",
      "{'_id': ObjectId('56d61034a378eccde8a908d6'),\n",
      " 'address': {'city': 'FAR ROCKAWAY',\n",
      "             'number': 2210,\n",
      "             'street': 'BROOKHAVEN AVE',\n",
      "             'zip': 11691},\n",
      " 'business_name': 'PROPARK AMERICA NEW YORK, LLC',\n",
      " 'certificate_number': 5345334,\n",
      " 'date': datetime.datetime(2015, 1, 2, 0, 0),\n",
      " 'id': '475-2015-ENFO',\n",
      " 'result': 'Violation Issued',\n",
      " 'sector': 'Parking Lot - 050'}\n",
      "------------------------------------------------------------\n",
      "\n"
     ]
    }
   ],
   "source": [
    "Output_head(result25, 2)"
   ]
  },
  {
   "cell_type": "markdown",
   "id": "22de57ab-fd8a-4234-9c60-b4a2b8987c5b",
   "metadata": {},
   "source": [
    "------------"
   ]
  },
  {
   "cell_type": "markdown",
   "id": "7f0a4383-16e8-4d18-b530-ec43e45c82ac",
   "metadata": {},
   "source": [
    "__Q26. List the `id` values of businesses with the `result` \"No Violation Issued\"__"
   ]
  },
  {
   "cell_type": "code",
   "execution_count": 87,
   "id": "d0a4813b-e31f-42ed-a226-b62d8c3fedd0",
   "metadata": {},
   "outputs": [],
   "source": [
    "query26 = {\"result\": \"No Violation Issued\"}"
   ]
  },
  {
   "cell_type": "code",
   "execution_count": 88,
   "id": "569742c0-55b1-436d-a311-f1b2a341c2ff",
   "metadata": {},
   "outputs": [],
   "source": [
    "projection26 = {\"id\": 1,\n",
    "               \"_id\": 0}"
   ]
  },
  {
   "cell_type": "code",
   "execution_count": 90,
   "id": "fa2a952e-4fed-46c4-a238-62c2dc0c7629",
   "metadata": {},
   "outputs": [],
   "source": [
    "result26 = myCollection.find(query26, projection26)"
   ]
  },
  {
   "cell_type": "code",
   "execution_count": 91,
   "id": "b8fe33d5-9a70-4615-885d-4fddd529e34e",
   "metadata": {},
   "outputs": [
    {
     "name": "stdout",
     "output_type": "stream",
     "text": [
      "{'id': '10172-2015-CMPL'}\n",
      "------------------------------------------------------------\n",
      "\n",
      "{'id': '10268-2015-CMPL'}\n",
      "------------------------------------------------------------\n",
      "\n"
     ]
    }
   ],
   "source": [
    "Output_head(result26, 2)"
   ]
  },
  {
   "cell_type": "markdown",
   "id": "ce3f9792-4c30-498d-9190-036136e966ab",
   "metadata": {},
   "source": [
    "----------"
   ]
  },
  {
   "cell_type": "markdown",
   "id": "fb8ac789-79d4-4954-addb-dd959ac4b3b4",
   "metadata": {},
   "source": [
    "__Q27. Retrieve all documents where the `address.street` is \"MENAHAN ST\".__"
   ]
  },
  {
   "cell_type": "code",
   "execution_count": 92,
   "id": "fb97b79a-d013-4123-93c4-2a9f3554d39f",
   "metadata": {},
   "outputs": [],
   "source": [
    "query27 = {\"address.street\": \"MENAHAN ST\"}"
   ]
  },
  {
   "cell_type": "code",
   "execution_count": 93,
   "id": "a8da1b15-c247-4b19-a8c9-d3e915557131",
   "metadata": {},
   "outputs": [],
   "source": [
    "result27 = myCollection.find(query27)"
   ]
  },
  {
   "cell_type": "code",
   "execution_count": 95,
   "id": "4da6656b-ffda-401f-b6ff-ae6604ff5404",
   "metadata": {},
   "outputs": [
    {
     "name": "stdout",
     "output_type": "stream",
     "text": [
      "{'_id': ObjectId('56d61033a378eccde8a8780a'),\n",
      " 'address': {'city': 'RIDGEWOOD',\n",
      "             'number': 1712,\n",
      "             'street': 'MENAHAN ST',\n",
      "             'zip': 11385},\n",
      " 'business_name': 'ATLIXCO DELI GROCERY INC.',\n",
      " 'certificate_number': 50061434,\n",
      " 'date': datetime.datetime(2015, 8, 11, 0, 0),\n",
      " 'id': '46377-2015-ENFO',\n",
      " 'result': 'No Violation Issued',\n",
      " 'sector': 'Cigarette Retail Dealer - 127'}\n",
      "------------------------------------------------------------\n",
      "\n"
     ]
    }
   ],
   "source": [
    "Output_head(result27, 2)"
   ]
  },
  {
   "cell_type": "markdown",
   "id": "9f063ffb-3043-4aaa-9770-4cd151fbf526",
   "metadata": {},
   "source": [
    "----------"
   ]
  },
  {
   "cell_type": "markdown",
   "id": "71ffc215-5ec7-4291-a950-ad1a0656e07c",
   "metadata": {},
   "source": [
    "__Q28. Find businesses whose `business_name` contains the word \"GROCERY\".__"
   ]
  },
  {
   "cell_type": "code",
   "execution_count": 98,
   "id": "2f89a792-14f9-4fa0-bbe8-c6fd16b886eb",
   "metadata": {},
   "outputs": [],
   "source": [
    "query28 = {\"business_name\": {\"$regex\": \"GROCERY\", \"$options\": \"i\"}}"
   ]
  },
  {
   "cell_type": "code",
   "execution_count": 99,
   "id": "d3378063-e89e-4370-9407-99208840ef69",
   "metadata": {},
   "outputs": [],
   "source": [
    "result28 = myCollection.find(query28)"
   ]
  },
  {
   "cell_type": "code",
   "execution_count": 101,
   "id": "2100dde8-e17a-49b8-b664-3dda0dbf467f",
   "metadata": {},
   "outputs": [
    {
     "name": "stdout",
     "output_type": "stream",
     "text": [
      "{'_id': ObjectId('56d61033a378eccde8a83589'),\n",
      " 'address': {'city': 'NEW YORK',\n",
      "             'number': 570,\n",
      "             'street': 'W 189TH ST',\n",
      "             'zip': 10040},\n",
      " 'business_name': 'FOOD GOURMET DELI-GROCERY, INC.',\n",
      " 'certificate_number': 5373991,\n",
      " 'date': datetime.datetime(2015, 3, 4, 0, 0),\n",
      " 'id': '11525-2015-ENFO',\n",
      " 'result': 'Violation Issued',\n",
      " 'sector': 'Cigarette Retail Dealer - 127'}\n",
      "------------------------------------------------------------\n",
      "\n",
      "{'_id': ObjectId('56d61033a378eccde8a835d6'),\n",
      " 'address': {'city': 'BRONX',\n",
      "             'number': 555,\n",
      "             'street': 'E 169TH ST',\n",
      "             'zip': 10456},\n",
      " 'business_name': 'NIN GROCERY CORP',\n",
      " 'certificate_number': 70025940,\n",
      " 'date': datetime.datetime(2015, 3, 21, 0, 0),\n",
      " 'id': '14186-2015-ENFO',\n",
      " 'result': 'Violation Issued',\n",
      " 'sector': 'Cigarette Retail Dealer - 127'}\n",
      "------------------------------------------------------------\n",
      "\n"
     ]
    }
   ],
   "source": [
    "Output_head(result28, 2)"
   ]
  },
  {
   "cell_type": "markdown",
   "id": "fdddadfd-46ae-439a-8bda-9cafc35d541c",
   "metadata": {},
   "source": [
    "--------"
   ]
  },
  {
   "cell_type": "markdown",
   "id": "1e91d9ee-0f06-4f85-86b0-992d9b0143a2",
   "metadata": {},
   "source": [
    "__Q29. List all businesses where the `sector` is not \"Tax Preparers - 891\"__"
   ]
  },
  {
   "cell_type": "code",
   "execution_count": 102,
   "id": "54867463-0119-40bd-9039-4c501c7db2ad",
   "metadata": {},
   "outputs": [],
   "source": [
    "query29 = {\"sector\": {\"$ne\": \"Tax Prepares - 891\"}}"
   ]
  },
  {
   "cell_type": "code",
   "execution_count": 103,
   "id": "dd10eebf-87cd-4eb1-92cd-9de3ac3c0c41",
   "metadata": {},
   "outputs": [],
   "source": [
    "result29 = myCollection.find(query29)"
   ]
  },
  {
   "cell_type": "code",
   "execution_count": 104,
   "id": "43de7480-e4b3-4565-982c-724a347ef360",
   "metadata": {},
   "outputs": [
    {
     "name": "stdout",
     "output_type": "stream",
     "text": [
      "{'_id': ObjectId('56d61033a378eccde8a83554'),\n",
      " 'address': {'city': '', 'number': '', 'street': '', 'zip': ''},\n",
      " 'business_name': 'UNNAMED HOT DOG VENDOR LICENSE NUMBER TA01158',\n",
      " 'certificate_number': 9304489,\n",
      " 'date': datetime.datetime(2015, 8, 21, 0, 0),\n",
      " 'id': '10172-2015-CMPL',\n",
      " 'result': 'No Violation Issued',\n",
      " 'sector': 'Mobile Food Vendor - 881'}\n",
      "------------------------------------------------------------\n",
      "\n",
      "{'_id': ObjectId('56d61033a378eccde8a83556'),\n",
      " 'address': {'city': '', 'number': '', 'street': '', 'zip': ''},\n",
      " 'business_name': 'UNNAMED HOT DOG VENDOR NO LICENSE NUMBER PROVIDED',\n",
      " 'certificate_number': 9304816,\n",
      " 'date': datetime.datetime(2015, 8, 19, 0, 0),\n",
      " 'id': '10268-2015-CMPL',\n",
      " 'result': 'No Violation Issued',\n",
      " 'sector': 'Mobile Food Vendor - 881'}\n",
      "------------------------------------------------------------\n",
      "\n"
     ]
    }
   ],
   "source": [
    "Output_head(result29, 2)"
   ]
  },
  {
   "cell_type": "markdown",
   "id": "8b2827f3-15a4-4580-a78e-97d79dec84f5",
   "metadata": {},
   "source": [
    "---------"
   ]
  },
  {
   "cell_type": "markdown",
   "id": "5094159b-30cd-4510-82b3-ecca445c273d",
   "metadata": {},
   "source": [
    "__Q30. Retrieve documents sorted by `certificate_number` in descending order.__"
   ]
  },
  {
   "cell_type": "code",
   "execution_count": 106,
   "id": "edcdecc9-7dec-43a5-b836-9b7dab6e82e7",
   "metadata": {},
   "outputs": [],
   "source": [
    "result30 = myCollection.find().sort({\"certificate_number\": -1})"
   ]
  },
  {
   "cell_type": "code",
   "execution_count": 108,
   "id": "5be801a0-e338-47ef-ac05-7832e4592db9",
   "metadata": {},
   "outputs": [
    {
     "name": "stdout",
     "output_type": "stream",
     "text": [
      "{'_id': ObjectId('56d61035a378eccde8a96ab5'),\n",
      " 'address': {'city': 'NEW YORK',\n",
      "             'number': 42,\n",
      "             'street': 'BROADWAY',\n",
      "             'zip': 10004},\n",
      " 'business_name': 'Lucious Auction House',\n",
      " 'certificate_number': 'T7009000',\n",
      " 'date': datetime.datetime(2016, 1, 19, 0, 0),\n",
      " 'id': '1172-2016-CMPL',\n",
      " 'result': 'Violation Issued',\n",
      " 'sector': 'Auction House - 128'}\n",
      "------------------------------------------------------------\n",
      "\n",
      "{'_id': ObjectId('56d61034a378eccde8a8b50f'),\n",
      " 'address': {'city': 'NEW YORK',\n",
      "             'number': 79,\n",
      "             'street': 'CLINTON ST',\n",
      "             'zip': 10002},\n",
      " 'business_name': 'Bottega Clinton LLC',\n",
      " 'certificate_number': 'PP040015',\n",
      " 'date': datetime.datetime(2015, 8, 28, 0, 0),\n",
      " 'id': '48932-2015-ENFO',\n",
      " 'result': 'Violation Issued',\n",
      " 'sector': 'Restaurant - 818'}\n",
      "------------------------------------------------------------\n",
      "\n"
     ]
    }
   ],
   "source": [
    "Output_head(result30, 2)"
   ]
  },
  {
   "cell_type": "markdown",
   "id": "a1c53e42-5b72-4f11-8aa8-6253a0cb9ac0",
   "metadata": {},
   "source": [
    "--------"
   ]
  },
  {
   "cell_type": "markdown",
   "id": "39183a00-33d2-4462-ad6e-64fda0187e7e",
   "metadata": {},
   "source": [
    "## Medium Questions"
   ]
  },
  {
   "cell_type": "markdown",
   "id": "31d1899a-1ac7-4d8c-9670-97b2d271eec0",
   "metadata": {},
   "source": [
    "__Q31. Find the number of businesses for each unique `result` type.__"
   ]
  },
  {
   "cell_type": "code",
   "execution_count": 9,
   "id": "9bca37bb-661b-4bd8-a71d-8f298ea71eac",
   "metadata": {},
   "outputs": [],
   "source": [
    "query31 = [\n",
    "    {\n",
    "        \"$group\": {\n",
    "            \"_id\": \"$result\",\n",
    "            \"count\": {\"$sum\": 1}\n",
    "        }\n",
    "    }\n",
    "]"
   ]
  },
  {
   "cell_type": "code",
   "execution_count": 10,
   "id": "5b6549f2-a1fd-4c31-8987-8a8ea2ae8215",
   "metadata": {},
   "outputs": [],
   "source": [
    "result31 = myCollection.aggregate(query31)"
   ]
  },
  {
   "cell_type": "code",
   "execution_count": 12,
   "id": "0511df1c-fc37-49b4-8ffc-69f00f155c6a",
   "metadata": {},
   "outputs": [
    {
     "name": "stdout",
     "output_type": "stream",
     "text": [
      "{'_id': 'Unable to Complete Inspection', 'count': 41}\n",
      "------------------------------------------------------------\n",
      "\n",
      "{'_id': 'Out of Business', 'count': 7142}\n",
      "------------------------------------------------------------\n",
      "\n",
      "{'_id': 'Posting Order Served', 'count': 330}\n",
      "------------------------------------------------------------\n",
      "\n"
     ]
    }
   ],
   "source": [
    "Output_head(result31, 3)"
   ]
  },
  {
   "cell_type": "markdown",
   "id": "aaa866be-ad56-4998-9c5d-3c68ae843a95",
   "metadata": {},
   "source": [
    "-----------"
   ]
  },
  {
   "cell_type": "markdown",
   "id": "e3aa3eaf-ece2-4fc8-8645-cf79313c0891",
   "metadata": {},
   "source": [
    "__Q32. List all businesses along with their `business_name` and `address.city`, sorted by `certificate_number` in ascending order.__"
   ]
  },
  {
   "cell_type": "code",
   "execution_count": 13,
   "id": "3af139fc-ebe8-4b35-95c6-da9c89fb0883",
   "metadata": {},
   "outputs": [],
   "source": [
    "query32 = {}"
   ]
  },
  {
   "cell_type": "code",
   "execution_count": 14,
   "id": "9e6c83b4-92fa-4c68-aa94-279df5043e7c",
   "metadata": {},
   "outputs": [],
   "source": [
    "projection32 = {\n",
    "    \"business_name\": 1,\n",
    "    \"address.city\": 1,\n",
    "    \"_id\": 0\n",
    "}"
   ]
  },
  {
   "cell_type": "code",
   "execution_count": 15,
   "id": "c8e0f56f-e783-4c88-b85c-b45e1b0c1131",
   "metadata": {},
   "outputs": [],
   "source": [
    "result32 = myCollection.find(query32, projection32).sort({\"certificate_number\": 1})"
   ]
  },
  {
   "cell_type": "code",
   "execution_count": 17,
   "id": "16098556-0ad3-43c8-995c-04394f5793a4",
   "metadata": {},
   "outputs": [
    {
     "name": "stdout",
     "output_type": "stream",
     "text": [
      "{'address': {'city': 'BRONX'},\n",
      " 'business_name': 'EMPIRE COLLISION AND AUTO BODY INC.'}\n",
      "------------------------------------------------------------\n",
      "\n",
      "{'address': {'city': 'BROOKLYN'},\n",
      " 'business_name': 'GRAY LINE NEW YORK TOURS, INC.'}\n",
      "------------------------------------------------------------\n",
      "\n"
     ]
    }
   ],
   "source": [
    "Output_head(result32, 2)"
   ]
  },
  {
   "cell_type": "markdown",
   "id": "c2a08f44-78d0-4a87-880d-c549b06024c3",
   "metadata": {},
   "source": [
    "-----------"
   ]
  },
  {
   "cell_type": "markdown",
   "id": "6ec6c8c3-aca9-400b-bf94-af4c9fb68cc5",
   "metadata": {},
   "source": [
    "__Q33. Find all businesses inspected in \"QUEENS VLG\" that received a \"Violation Issued\" result.__"
   ]
  },
  {
   "cell_type": "code",
   "execution_count": 18,
   "id": "ad6fd0a6-54fc-4e77-9a8d-46d0988b3169",
   "metadata": {},
   "outputs": [],
   "source": [
    "query33 = {\n",
    "    \"address.city\": \"QUEENS VLG\",\n",
    "    \"result\": \"Violation Issued\"\n",
    "}"
   ]
  },
  {
   "cell_type": "code",
   "execution_count": 19,
   "id": "61239571-d5d2-4104-8b74-c9c8cb67eb46",
   "metadata": {},
   "outputs": [],
   "source": [
    "result33 = myCollection.find(query33)"
   ]
  },
  {
   "cell_type": "code",
   "execution_count": 21,
   "id": "ab105e0b-f456-46a7-9118-431733cdae80",
   "metadata": {},
   "outputs": [
    {
     "name": "stdout",
     "output_type": "stream",
     "text": [
      "{'_id': ObjectId('56d61034a378eccde8a8d3b9'),\n",
      " 'address': {'city': 'QUEENS VLG',\n",
      "             'number': 21511,\n",
      "             'street': 'JAMAICA AVE',\n",
      "             'zip': 11428},\n",
      " 'business_name': 'BAGHDAD DELI CORP',\n",
      " 'certificate_number': 70033577,\n",
      " 'date': datetime.datetime(2015, 7, 7, 0, 0),\n",
      " 'id': '38559-2015-ENFO',\n",
      " 'result': 'Violation Issued',\n",
      " 'sector': 'Cigarette Retail Dealer - 127'}\n",
      "------------------------------------------------------------\n",
      "\n",
      "{'_id': ObjectId('56d61035a378eccde8a94580'),\n",
      " 'address': {'city': 'QUEENS VLG',\n",
      "             'number': 20801,\n",
      "             'street': 'JAMAICA AVE',\n",
      "             'zip': 11428},\n",
      " 'business_name': 'QUEENS VILLAGE SUPERETTE CORP.',\n",
      " 'certificate_number': 70026079,\n",
      " 'date': datetime.datetime(2015, 6, 22, 0, 0),\n",
      " 'id': '35218-2015-ENFO',\n",
      " 'result': 'Violation Issued',\n",
      " 'sector': 'Cigarette Retail Dealer - 127'}\n",
      "------------------------------------------------------------\n",
      "\n"
     ]
    }
   ],
   "source": [
    "Output_head(result33, 2)"
   ]
  },
  {
   "cell_type": "markdown",
   "id": "25c43748-6d83-458c-84c2-4d9c8edab158",
   "metadata": {},
   "source": [
    "----------"
   ]
  },
  {
   "cell_type": "markdown",
   "id": "a97800cd-89d7-4671-af87-980114ed552a",
   "metadata": {},
   "source": [
    "__Q34. Count how many businesses belong to the `sector` \"Home Improvement Contractor - 100\".__"
   ]
  },
  {
   "cell_type": "code",
   "execution_count": 22,
   "id": "f8a6ccc0-26bc-4436-8da0-bb257cbb56e6",
   "metadata": {},
   "outputs": [],
   "source": [
    "query34 = {\n",
    "    \"sector\": \"Home Improvement Contractor - 100\"\n",
    "}"
   ]
  },
  {
   "cell_type": "code",
   "execution_count": 23,
   "id": "5f688c31-bc4d-4737-bf13-70f02505da23",
   "metadata": {},
   "outputs": [],
   "source": [
    "result34 = myCollection.count_documents(query34)"
   ]
  },
  {
   "cell_type": "code",
   "execution_count": 25,
   "id": "834c5a01-593f-4788-adbb-7331211c780c",
   "metadata": {},
   "outputs": [
    {
     "data": {
      "text/plain": [
       "459"
      ]
     },
     "execution_count": 25,
     "metadata": {},
     "output_type": "execute_result"
    }
   ],
   "source": [
    "result34"
   ]
  },
  {
   "cell_type": "markdown",
   "id": "0bc5fbcb-3725-452b-9b9c-342b0ca5ba4c",
   "metadata": {},
   "source": [
    "-------"
   ]
  },
  {
   "cell_type": "markdown",
   "id": "4532d0dd-7f8f-46cc-a56b-96c8fc030643",
   "metadata": {},
   "source": [
    "__Q35. Find the average `address.number` for businesses in \"QUEENS VLG\".__"
   ]
  },
  {
   "cell_type": "code",
   "execution_count": 29,
   "id": "0d91c62a-157a-45e8-975b-747be7526ef9",
   "metadata": {},
   "outputs": [],
   "source": [
    "query35 = [\n",
    "    {\n",
    "        \"$match\": {\n",
    "            \"address.city\" : \"QUEENS VLG\"\n",
    "        }\n",
    "    },\n",
    "    {\n",
    "        \"$group\": {\n",
    "            \"_id\": None,\n",
    "            \"avgNumber\": {\n",
    "                \"$avg\": \"$address.number\"\n",
    "            }\n",
    "        }\n",
    "    }\n",
    "]"
   ]
  },
  {
   "cell_type": "code",
   "execution_count": 33,
   "id": "2cee6f5e-d4ab-469c-ba75-08813fbb326a",
   "metadata": {},
   "outputs": [],
   "source": [
    "result35 = myCollection.aggregate(query35)"
   ]
  },
  {
   "cell_type": "code",
   "execution_count": 34,
   "id": "188e1904-cb49-4618-9157-c444c9fae147",
   "metadata": {},
   "outputs": [
    {
     "name": "stdout",
     "output_type": "stream",
     "text": [
      "{'_id': None, 'avgNumber': 18113.590163934427}\n",
      "------------------------------------------------------------\n",
      "\n"
     ]
    }
   ],
   "source": [
    "Output_head(result35, 2)"
   ]
  },
  {
   "cell_type": "markdown",
   "id": "235f3a97-eefc-4c64-83c8-60935e8f57e9",
   "metadata": {},
   "source": [
    "-----------"
   ]
  },
  {
   "cell_type": "markdown",
   "id": "8f086701-883c-4ae8-85c9-b625d34748a8",
   "metadata": {},
   "source": [
    "__Q36. List distinct `address.city` values where `result` is \"Violation Issued\".__"
   ]
  },
  {
   "cell_type": "code",
   "execution_count": 35,
   "id": "bee3f05e-385a-473e-8d15-2d5fd4d0435e",
   "metadata": {},
   "outputs": [],
   "source": [
    "query36 = {\n",
    "    \"result\" : \"Violation Issued\"\n",
    "}"
   ]
  },
  {
   "cell_type": "code",
   "execution_count": 39,
   "id": "3ca9a5df-7000-4eab-b8b2-bec42dfaa2ae",
   "metadata": {},
   "outputs": [],
   "source": [
    "result36 = myCollection.distinct(\"address.city\", query36)"
   ]
  },
  {
   "cell_type": "code",
   "execution_count": 42,
   "id": "3e616efa-5247-415d-9cba-cdfe5002514e",
   "metadata": {},
   "outputs": [
    {
     "name": "stdout",
     "output_type": "stream",
     "text": [
      "''\n",
      "------------------------------------------------------------\n",
      "\n",
      "'ALLENTOWN'\n",
      "------------------------------------------------------------\n",
      "\n",
      "'ARLINGTON'\n",
      "------------------------------------------------------------\n",
      "\n"
     ]
    }
   ],
   "source": [
    "Output_head(result36, 3)"
   ]
  },
  {
   "cell_type": "markdown",
   "id": "b653d601-4941-4ffd-93dd-def4e9e0e14a",
   "metadata": {},
   "source": [
    "-------"
   ]
  },
  {
   "cell_type": "markdown",
   "id": "c1074b55-441c-44db-a1e4-e8ae7e2104b5",
   "metadata": {},
   "source": [
    "__Q37. Find the earliest inspection date recorded in the collection.__"
   ]
  },
  {
   "cell_type": "code",
   "execution_count": 47,
   "id": "d0210eeb-61d5-44c1-b6ec-c8e05846f601",
   "metadata": {},
   "outputs": [],
   "source": [
    "result37 = myCollection.find({}).sort({\"date\": 1}).limit(1)"
   ]
  },
  {
   "cell_type": "code",
   "execution_count": 48,
   "id": "bbf1c31d-3339-4757-81df-ce31782777e4",
   "metadata": {},
   "outputs": [
    {
     "name": "stdout",
     "output_type": "stream",
     "text": [
      "{'_id': ObjectId('56d61033a378eccde8a83e41'),\n",
      " 'address': {'city': 'BRONX',\n",
      "             'number': 831,\n",
      "             'street': 'ROSEDALE AVE',\n",
      "             'zip': 10473},\n",
      " 'business_name': 'WESTERN BEEF RETAIL, INC.',\n",
      " 'certificate_number': 3033508,\n",
      " 'date': datetime.datetime(2015, 1, 2, 0, 0),\n",
      " 'id': '69752-2014-ENFO',\n",
      " 'result': 'Pass',\n",
      " 'sector': 'Supermarket - 819'}\n",
      "------------------------------------------------------------\n",
      "\n"
     ]
    }
   ],
   "source": [
    "Output_head(result37)"
   ]
  },
  {
   "cell_type": "markdown",
   "id": "8e32599b-7d39-4a8d-b507-803412a3a427",
   "metadata": {},
   "source": [
    "-------------"
   ]
  },
  {
   "cell_type": "markdown",
   "id": "e1bd61e9-b66a-418b-a937-72e3b99669b0",
   "metadata": {},
   "source": [
    "__Q38. Retrieve the top 3 businesses with the highest `certificate_number`.__"
   ]
  },
  {
   "cell_type": "code",
   "execution_count": 50,
   "id": "055e795a-7e54-4d87-ba96-306191f45121",
   "metadata": {},
   "outputs": [],
   "source": [
    "result38 = myCollection.find({}).sort({\"certificate_number\": -1}).limit(3)"
   ]
  },
  {
   "cell_type": "code",
   "execution_count": 51,
   "id": "8bcf14d4-24f8-433e-a827-3cb985db39eb",
   "metadata": {},
   "outputs": [
    {
     "name": "stdout",
     "output_type": "stream",
     "text": [
      "{'_id': ObjectId('56d61035a378eccde8a967c6'),\n",
      " 'address': {'city': 'NEW YORK',\n",
      "             'number': 42,\n",
      "             'street': 'BROADWAY',\n",
      "             'zip': 10004},\n",
      " 'business_name': 'Test UAT',\n",
      " 'certificate_number': 'T7009005',\n",
      " 'date': datetime.datetime(2016, 1, 11, 0, 0),\n",
      " 'id': '4496-2016-ENFO',\n",
      " 'result': 'Violation Issued',\n",
      " 'sector': 'Cigarette Retail Dealer - 127'}\n",
      "------------------------------------------------------------\n",
      "\n",
      "{'_id': ObjectId('56d61035a378eccde8a96ab5'),\n",
      " 'address': {'city': 'NEW YORK',\n",
      "             'number': 42,\n",
      "             'street': 'BROADWAY',\n",
      "             'zip': 10004},\n",
      " 'business_name': 'Lucious Auction House',\n",
      " 'certificate_number': 'T7009000',\n",
      " 'date': datetime.datetime(2016, 1, 19, 0, 0),\n",
      " 'id': '1172-2016-CMPL',\n",
      " 'result': 'Violation Issued',\n",
      " 'sector': 'Auction House - 128'}\n",
      "------------------------------------------------------------\n",
      "\n"
     ]
    }
   ],
   "source": [
    "Output_head(result38)"
   ]
  },
  {
   "cell_type": "markdown",
   "id": "91520b90-f2f6-4634-b24f-7376d392e9a2",
   "metadata": {},
   "source": [
    "-------"
   ]
  },
  {
   "cell_type": "markdown",
   "id": "ee93f4e0-be63-4cd7-b637-898236e96154",
   "metadata": {},
   "source": [
    "__Q39. Count how many businesses have `address.zip` codes greater than 11000.__"
   ]
  },
  {
   "cell_type": "code",
   "execution_count": 52,
   "id": "05be050e-2956-4b6f-bc1a-9b565f7ab071",
   "metadata": {},
   "outputs": [],
   "source": [
    "query39 = {\n",
    "    \"address.zip\": {\n",
    "        \"$gt\": 11000\n",
    "    }\n",
    "}"
   ]
  },
  {
   "cell_type": "code",
   "execution_count": 53,
   "id": "d98c8b4f-6bdd-4083-8b86-db80f48ab709",
   "metadata": {},
   "outputs": [],
   "source": [
    "result39 = myCollection.count_documents(query39)"
   ]
  },
  {
   "cell_type": "code",
   "execution_count": 54,
   "id": "b79860e9-2ea6-4eb6-b6ae-77d9867110c1",
   "metadata": {},
   "outputs": [
    {
     "data": {
      "text/plain": [
       "47027"
      ]
     },
     "execution_count": 54,
     "metadata": {},
     "output_type": "execute_result"
    }
   ],
   "source": [
    "result39"
   ]
  },
  {
   "cell_type": "markdown",
   "id": "e5fd8302-dcfb-429c-a070-c3d40b7fad7d",
   "metadata": {},
   "source": [
    "-------"
   ]
  },
  {
   "cell_type": "markdown",
   "id": "cb92c3b1-d3f7-4401-bfc4-b7f168239976",
   "metadata": {},
   "source": [
    "__Q40. Group businesses by `sector` and count how many businesses belong to each sector.__"
   ]
  },
  {
   "cell_type": "code",
   "execution_count": 55,
   "id": "671eefe2-5eb3-422b-95af-3722942d4b66",
   "metadata": {},
   "outputs": [],
   "source": [
    "query40 = [\n",
    "    {\n",
    "        \"$group\": {\n",
    "            \"_id\": \"$sector\",\n",
    "            \"business_count\": {\n",
    "                \"$sum\": 1\n",
    "            }\n",
    "        }\n",
    "    }\n",
    "]"
   ]
  },
  {
   "cell_type": "code",
   "execution_count": 56,
   "id": "23d4db07-5166-417c-9466-0ea648766a8d",
   "metadata": {},
   "outputs": [],
   "source": [
    "result40 = myCollection.aggregate(query40)"
   ]
  },
  {
   "cell_type": "code",
   "execution_count": 61,
   "id": "efa6418d-c778-4050-8c02-8834c10eef7d",
   "metadata": {},
   "outputs": [
    {
     "name": "stdout",
     "output_type": "stream",
     "text": [
      "{'_id': 'Jewelry Store-Retail - 823', 'business_count': 303}\n",
      "------------------------------------------------------------\n",
      "\n",
      "{'_id': 'Amusement Device (Temporary) - 090', 'business_count': 33}\n",
      "------------------------------------------------------------\n",
      "\n"
     ]
    }
   ],
   "source": [
    "Output_head(result40)"
   ]
  },
  {
   "cell_type": "markdown",
   "id": "d88ea1ea-7696-4b94-a4f3-2274bd61f5f6",
   "metadata": {},
   "source": [
    "------------"
   ]
  },
  {
   "cell_type": "markdown",
   "id": "bb8ca933-9d7a-4f49-8887-e1f76b4b9d40",
   "metadata": {},
   "source": [
    "__Q41. Find businesses where the `address.street` contains the word \"ST\" and `result` is \"No Violation Issued\".__"
   ]
  },
  {
   "cell_type": "code",
   "execution_count": 75,
   "id": "6a58cd80-5baf-41a1-9fcb-f3a615707935",
   "metadata": {},
   "outputs": [],
   "source": [
    "query41 = {\n",
    "  \"address.street\": { \"$regex\": re.compile(\"ST\") },\n",
    "  \"result\": \"No Violation Issued\"\n",
    "}"
   ]
  },
  {
   "cell_type": "code",
   "execution_count": 76,
   "id": "03be3cea-8b78-4311-915e-05fec6c0d3a6",
   "metadata": {},
   "outputs": [],
   "source": [
    "result41 = myCollection.find(query41)"
   ]
  },
  {
   "cell_type": "code",
   "execution_count": 77,
   "id": "deeea6d5-dab8-4c16-9a1f-9d182003098d",
   "metadata": {},
   "outputs": [
    {
     "name": "stdout",
     "output_type": "stream",
     "text": [
      "{'_id': ObjectId('56d61033a378eccde8a8355b'),\n",
      " 'address': {'city': 'ELMHURST',\n",
      "             'number': 4157,\n",
      "             'street': '75TH ST',\n",
      "             'zip': 11373},\n",
      " 'business_name': 'BISHWANATH BISWAS',\n",
      " 'certificate_number': 9287092,\n",
      " 'date': datetime.datetime(2015, 2, 25, 0, 0),\n",
      " 'id': '10318-2015-ENFO',\n",
      " 'result': 'No Violation Issued',\n",
      " 'sector': 'Mobile Food Vendor - 881'}\n",
      "------------------------------------------------------------\n",
      "\n",
      "{'_id': ObjectId('56d61033a378eccde8a83560'),\n",
      " 'address': {'city': 'JERSEY CITY',\n",
      "             'number': 160,\n",
      "             'street': 'VROOM ST',\n",
      "             'zip': 7306},\n",
      " 'business_name': 'AZMY KIROLES',\n",
      " 'certificate_number': 9318079,\n",
      " 'date': datetime.datetime(2015, 12, 23, 0, 0),\n",
      " 'id': '1044-2016-ENFO',\n",
      " 'result': 'No Violation Issued',\n",
      " 'sector': 'Mobile Food Vendor - 881'}\n",
      "------------------------------------------------------------\n",
      "\n"
     ]
    }
   ],
   "source": [
    "Output_head(result41)"
   ]
  },
  {
   "cell_type": "markdown",
   "id": "e511a680-1195-43ea-b805-3a3ac467e87f",
   "metadata": {},
   "source": [
    "-------"
   ]
  },
  {
   "cell_type": "markdown",
   "id": "9e4c6ed4-50b7-43d8-aed4-ec6477357cb6",
   "metadata": {},
   "source": [
    "__Q42.Update the `result` to \"Pending\" for all businesses where the `result` is currently \"No Violation Issued\"__"
   ]
  },
  {
   "cell_type": "code",
   "execution_count": 78,
   "id": "2f973c65-3483-4bdb-b78e-69da35cc7c08",
   "metadata": {},
   "outputs": [],
   "source": [
    "query42 = {\n",
    "    \"result\": \"No Violation Issued\"\n",
    "}"
   ]
  },
  {
   "cell_type": "code",
   "execution_count": 79,
   "id": "8a6bbbd1-1e98-45ba-b5af-6dda11421fa8",
   "metadata": {},
   "outputs": [],
   "source": [
    "Update42 = {\n",
    "    \"$set\": {\"result\": \"Pending\"}\n",
    "}"
   ]
  },
  {
   "cell_type": "raw",
   "id": "d56d8215-7157-47b7-bf42-1dde860e189a",
   "metadata": {},
   "source": [
    "result42 = myCollection.update_many(query42, Update42)"
   ]
  },
  {
   "cell_type": "markdown",
   "id": "be85132e-515f-4622-97fa-7e27c4957824",
   "metadata": {},
   "source": [
    "----------"
   ]
  },
  {
   "cell_type": "markdown",
   "id": "20d94328-f684-4ec6-9b4f-4b88bfa5b66b",
   "metadata": {},
   "source": [
    "__Q43. Delete all businesses with a `certificate_number` less than 6000000.__"
   ]
  },
  {
   "cell_type": "code",
   "execution_count": 80,
   "id": "ea8f246a-ddc5-454f-9a92-4d89e54bd143",
   "metadata": {},
   "outputs": [],
   "source": [
    "query43 = {\n",
    "    \"certificate_number\": {\n",
    "        \"$lt\": 6000000\n",
    "    }\n",
    "}"
   ]
  },
  {
   "cell_type": "raw",
   "id": "64b1df82-8886-4784-8249-115fe6570c98",
   "metadata": {},
   "source": [
    "result43 = myCollection.delete_many(query43)"
   ]
  },
  {
   "cell_type": "markdown",
   "id": "64441f67-eefd-4d17-8c96-744f436ca735",
   "metadata": {},
   "source": [
    "--------------"
   ]
  },
  {
   "cell_type": "markdown",
   "id": "ef96509c-8544-4bdc-88bc-e22affb86f5b",
   "metadata": {},
   "source": [
    "__Q44. Find businesses inspected in \"Feb 2015\" and list their `business_name` and `result`.__"
   ]
  },
  {
   "cell_type": "code",
   "execution_count": 91,
   "id": "aff4f165-358a-4100-af7c-34d3662eac45",
   "metadata": {},
   "outputs": [],
   "source": [
    "query44 = {\n",
    "    \"$and\": [\n",
    "        {\n",
    "            \"date\": {\"$gt\": datetime(2015, 1, 31)}\n",
    "        },\n",
    "        {\n",
    "            \"date\": {\"$lt\": datetime(2015, 3, 1)}\n",
    "        }\n",
    "    ]\n",
    "}"
   ]
  },
  {
   "cell_type": "code",
   "execution_count": 92,
   "id": "fcadb4e7-5a6a-4bc5-afed-150eb09af21c",
   "metadata": {},
   "outputs": [],
   "source": [
    "projection44 = {\n",
    "    \"_id\": 0,\n",
    "    \"business_name\": 1,\n",
    "    \"result\": 1\n",
    "}"
   ]
  },
  {
   "cell_type": "code",
   "execution_count": 93,
   "id": "956ed0c1-51a8-4106-b7a9-7fd966ab85b4",
   "metadata": {},
   "outputs": [],
   "source": [
    "result44 = myCollection.find(query44, projection44)"
   ]
  },
  {
   "cell_type": "code",
   "execution_count": 94,
   "id": "83638b62-6072-440a-b885-3bb390d06019",
   "metadata": {},
   "outputs": [
    {
     "name": "stdout",
     "output_type": "stream",
     "text": [
      "{'business_name': 'BISHWANATH BISWAS', 'result': 'No Violation Issued'}\n",
      "------------------------------------------------------------\n",
      "\n",
      "{'business_name': 'GRICEYDA M VILLAR', 'result': 'No Violation Issued'}\n",
      "------------------------------------------------------------\n",
      "\n"
     ]
    }
   ],
   "source": [
    "Output_head(result44)"
   ]
  },
  {
   "cell_type": "markdown",
   "id": "638c9be4-d82a-4634-96f9-87faba827c20",
   "metadata": {},
   "source": [
    "---------"
   ]
  },
  {
   "cell_type": "markdown",
   "id": "b2ce588a-0e66-4a48-b08b-c6e315363389",
   "metadata": {},
   "source": [
    "__Q45. Find all businesses whose `address.number` is between 8000 and 9500.__"
   ]
  },
  {
   "cell_type": "code",
   "execution_count": 95,
   "id": "4001095d-1605-40f4-a633-ebe0aa3d51c9",
   "metadata": {},
   "outputs": [],
   "source": [
    "query45 = {\n",
    "    \"$and\": [\n",
    "        {\n",
    "            \"address.number\": {\"$gt\": 8000}\n",
    "        },\n",
    "        {\n",
    "            \"address.number\": {\"$lt\": 9500}    \n",
    "        }\n",
    "    ]\n",
    "}"
   ]
  },
  {
   "cell_type": "code",
   "execution_count": 96,
   "id": "1220550a-6b1f-4608-ae26-4e301acad73f",
   "metadata": {},
   "outputs": [],
   "source": [
    "result45 = myCollection.find(query45)"
   ]
  },
  {
   "cell_type": "code",
   "execution_count": 97,
   "id": "06246eda-3466-4028-8f56-ddbb6254f8ad",
   "metadata": {
    "scrolled": true
   },
   "outputs": [
    {
     "name": "stdout",
     "output_type": "stream",
     "text": [
      "{'_id': ObjectId('56d61033a378eccde8a83551'),\n",
      " 'address': {'city': 'QUEENS VLG',\n",
      "             'number': 8823,\n",
      "             'street': '214TH ST',\n",
      "             'zip': 11427},\n",
      " 'business_name': 'MICHAEL GOMEZ RANGHALL',\n",
      " 'certificate_number': 9278914,\n",
      " 'date': datetime.datetime(2015, 2, 10, 0, 0),\n",
      " 'id': '10084-2015-ENFO',\n",
      " 'result': 'No Violation Issued',\n",
      " 'sector': 'Locksmith - 062'}\n",
      "------------------------------------------------------------\n",
      "\n",
      "{'_id': ObjectId('56d61033a378eccde8a83552'),\n",
      " 'address': {'city': 'QUEENS VLG',\n",
      "             'number': 9440,\n",
      "             'street': '210TH ST',\n",
      "             'zip': 11428},\n",
      " 'business_name': 'A&C CHIMNEY CORP.',\n",
      " 'certificate_number': 5346909,\n",
      " 'date': datetime.datetime(2015, 4, 22, 0, 0),\n",
      " 'id': '1012-2015-CMPL',\n",
      " 'result': 'Violation Issued',\n",
      " 'sector': 'Home Improvement Contractor - 100'}\n",
      "------------------------------------------------------------\n",
      "\n"
     ]
    }
   ],
   "source": [
    "Output_head(result45)"
   ]
  },
  {
   "cell_type": "markdown",
   "id": "52957cde-0e85-4ae9-b959-a111c999ec91",
   "metadata": {},
   "source": [
    "--------"
   ]
  },
  {
   "cell_type": "markdown",
   "id": "6de17ae6-3c4a-49c8-8cef-6bb2a56af76e",
   "metadata": {},
   "source": [
    "__Q46. Retrieve the list of businesses, projecting only `business_name`, `result`, and `address.zip`, sorted by `address.zip`.__"
   ]
  },
  {
   "cell_type": "code",
   "execution_count": 98,
   "id": "aa1f0c09-1c88-4312-928b-08419e1b1701",
   "metadata": {},
   "outputs": [],
   "source": [
    "query46 = {}"
   ]
  },
  {
   "cell_type": "code",
   "execution_count": 99,
   "id": "39bc1f05-8440-49e8-9cac-abc8c6318c56",
   "metadata": {},
   "outputs": [],
   "source": [
    "projection46 = {\n",
    "    \"_id\": 0,\n",
    "    \"business_name\": 1,\n",
    "    \"result\": 1,\n",
    "    \"address.zip\": 1\n",
    "}"
   ]
  },
  {
   "cell_type": "code",
   "execution_count": 100,
   "id": "966450a8-6976-47bc-923a-ab13903644f3",
   "metadata": {},
   "outputs": [],
   "source": [
    "result46 = myCollection.find(query46, projection46).sort({\"address.zip\": 1})"
   ]
  },
  {
   "cell_type": "code",
   "execution_count": 101,
   "id": "38e1452f-e98c-43c4-9938-85de3ea20a5f",
   "metadata": {},
   "outputs": [
    {
     "name": "stdout",
     "output_type": "stream",
     "text": [
      "{'address': {'zip': 1069},\n",
      " 'business_name': 'J & F ACQUITITIONS LLC',\n",
      " 'result': 'Pass'}\n",
      "------------------------------------------------------------\n",
      "\n",
      "{'address': {'zip': 2886},\n",
      " 'business_name': 'CITIZENS ASSET FINANCE INC',\n",
      " 'result': 'Pass'}\n",
      "------------------------------------------------------------\n",
      "\n",
      "{'address': {'zip': 2886},\n",
      " 'business_name': 'RBS ASSET FINANCE INC.',\n",
      " 'result': 'Pass'}\n",
      "------------------------------------------------------------\n",
      "\n"
     ]
    }
   ],
   "source": [
    "Output_head(result46, 3)"
   ]
  },
  {
   "cell_type": "markdown",
   "id": "cf4ad9a5-b951-423d-b0dc-4e27b1c2386c",
   "metadata": {},
   "source": [
    "----------"
   ]
  },
  {
   "cell_type": "markdown",
   "id": "6201664f-7fcb-4465-af15-2867a85a5b3d",
   "metadata": {},
   "source": [
    "__Q47. Find documents where the `address.zip` is either 11385 or 11427.__"
   ]
  },
  {
   "cell_type": "code",
   "execution_count": 102,
   "id": "10147aea-7b97-4b7a-93c0-91d04e4577d4",
   "metadata": {},
   "outputs": [],
   "source": [
    "query47 = {\n",
    "    \"address.zip\":{\n",
    "        \"$in\": [\n",
    "            11385,\n",
    "            11427\n",
    "        ]\n",
    "    }\n",
    "}"
   ]
  },
  {
   "cell_type": "code",
   "execution_count": 103,
   "id": "25ff49c7-f8e0-46f9-b97f-f7de9b263f6e",
   "metadata": {},
   "outputs": [],
   "source": [
    "result47 = myCollection.find(query47)"
   ]
  },
  {
   "cell_type": "code",
   "execution_count": 104,
   "id": "3df30919-0bb3-4e4d-95a0-72fbe01df968",
   "metadata": {
    "scrolled": true
   },
   "outputs": [
    {
     "name": "stdout",
     "output_type": "stream",
     "text": [
      "{'_id': ObjectId('56d61033a378eccde8a83551'),\n",
      " 'address': {'city': 'QUEENS VLG',\n",
      "             'number': 8823,\n",
      "             'street': '214TH ST',\n",
      "             'zip': 11427},\n",
      " 'business_name': 'MICHAEL GOMEZ RANGHALL',\n",
      " 'certificate_number': 9278914,\n",
      " 'date': datetime.datetime(2015, 2, 10, 0, 0),\n",
      " 'id': '10084-2015-ENFO',\n",
      " 'result': 'No Violation Issued',\n",
      " 'sector': 'Locksmith - 062'}\n",
      "------------------------------------------------------------\n",
      "\n",
      "{'_id': ObjectId('56d61033a378eccde8a8354f'),\n",
      " 'address': {'city': 'RIDGEWOOD',\n",
      "             'number': 1712,\n",
      "             'street': 'MENAHAN ST',\n",
      "             'zip': 11385},\n",
      " 'business_name': 'ATLIXCO DELI GROCERY INC.',\n",
      " 'certificate_number': 9278806,\n",
      " 'date': datetime.datetime(2015, 2, 20, 0, 0),\n",
      " 'id': '10021-2015-ENFO',\n",
      " 'result': 'No Violation Issued',\n",
      " 'sector': 'Cigarette Retail Dealer - 127'}\n",
      "------------------------------------------------------------\n",
      "\n"
     ]
    }
   ],
   "source": [
    "Output_head(result47)"
   ]
  },
  {
   "cell_type": "markdown",
   "id": "c554a1b2-78ff-49c1-b509-f5e9f38d3c7d",
   "metadata": {},
   "source": [
    "----------------"
   ]
  },
  {
   "cell_type": "markdown",
   "id": "6e5ab9cc-1e8b-4393-a4f4-cc8dada49560",
   "metadata": {},
   "source": [
    "__Q48. Count how many unique `certificate_number` values exist in the collection.__"
   ]
  },
  {
   "cell_type": "code",
   "execution_count": 107,
   "id": "7f31c6a9-eae1-41dc-89a9-ba9b5cfd301a",
   "metadata": {},
   "outputs": [],
   "source": [
    "result48 = myCollection.distinct(\"certificate_number\")"
   ]
  },
  {
   "cell_type": "code",
   "execution_count": 112,
   "id": "b58e1216-7115-4e1d-9627-45981591d8e1",
   "metadata": {},
   "outputs": [
    {
     "data": {
      "text/plain": [
       "80794"
      ]
     },
     "execution_count": 112,
     "metadata": {},
     "output_type": "execute_result"
    }
   ],
   "source": [
    "len(result48)"
   ]
  },
  {
   "cell_type": "markdown",
   "id": "c00fb981-98fc-4985-8450-db3f74b98e07",
   "metadata": {},
   "source": [
    "-------------"
   ]
  },
  {
   "cell_type": "markdown",
   "id": "6c11535c-b84b-4963-b1f1-1e487c494c11",
   "metadata": {},
   "source": [
    "__Q49. List the businesses where the `business_name` contains \"INC\" (case insensitive).__"
   ]
  },
  {
   "cell_type": "code",
   "execution_count": 116,
   "id": "a598bd56-da5c-483a-8678-f593539a9b7d",
   "metadata": {},
   "outputs": [],
   "source": [
    "query49 = {\n",
    "    \"business_name\": {\"$regex\": \"INC\", \n",
    "                      \"$options\": \"i\"}\n",
    "}"
   ]
  },
  {
   "cell_type": "code",
   "execution_count": 117,
   "id": "ae81c211-d6f1-41d1-be92-cccde560b2b6",
   "metadata": {},
   "outputs": [],
   "source": [
    "result49 = myCollection.find(query49)"
   ]
  },
  {
   "cell_type": "code",
   "execution_count": 118,
   "id": "548a7f2d-537f-4191-986c-a532f4507a01",
   "metadata": {},
   "outputs": [
    {
     "name": "stdout",
     "output_type": "stream",
     "text": [
      "{'_id': ObjectId('56d61033a378eccde8a83553'),\n",
      " 'address': {'city': 'STATEN ISLAND',\n",
      "             'number': 1233,\n",
      "             'street': 'TODT HILL RD',\n",
      "             'zip': 10304},\n",
      " 'business_name': 'ERIC CONSTRUCTION AND DECORATING INC.',\n",
      " 'certificate_number': 5381180,\n",
      " 'date': datetime.datetime(2015, 9, 8, 0, 0),\n",
      " 'id': '10127-2015-CMPL',\n",
      " 'result': 'Violation Issued',\n",
      " 'sector': 'Home Improvement Contractor - 100'}\n",
      "------------------------------------------------------------\n",
      "\n",
      "{'_id': ObjectId('56d61033a378eccde8a8355d'),\n",
      " 'address': {'city': 'BROOKLYN',\n",
      "             'number': 1320,\n",
      "             'street': 'E 55TH ST',\n",
      "             'zip': 11234},\n",
      " 'business_name': 'NEW FINEST BUILDERS INC',\n",
      " 'certificate_number': 5381196,\n",
      " 'date': datetime.datetime(2015, 12, 1, 0, 0),\n",
      " 'id': '10351-2015-CMPL',\n",
      " 'result': 'Violation Issued',\n",
      " 'sector': 'Home Improvement Contractor - 100'}\n",
      "------------------------------------------------------------\n",
      "\n"
     ]
    }
   ],
   "source": [
    "Output_head(result49)"
   ]
  },
  {
   "cell_type": "markdown",
   "id": "a5e01e8f-d0bc-4fc8-95ce-35c369beca36",
   "metadata": {},
   "source": [
    "----------"
   ]
  },
  {
   "cell_type": "markdown",
   "id": "81c417dd-c3ef-40bd-b135-8d6472d50631",
   "metadata": {},
   "source": [
    "__Q50. Find businesses whose `sector` ends with \"100\".__"
   ]
  },
  {
   "cell_type": "code",
   "execution_count": 126,
   "id": "da130785-9874-4f08-8e62-6b74c3da2b6f",
   "metadata": {},
   "outputs": [],
   "source": [
    "query50 = {\n",
    "    \"sector\": {\"$regex\": re.compile(\"100$\")}\n",
    "}"
   ]
  },
  {
   "cell_type": "code",
   "execution_count": 127,
   "id": "ba9191ce-486e-4c22-b016-37601edc8d50",
   "metadata": {},
   "outputs": [],
   "source": [
    "result50 = myCollection.find(query50)"
   ]
  },
  {
   "cell_type": "code",
   "execution_count": 128,
   "id": "6301bab6-eca5-4dab-8c1c-c682ac7ef1d9",
   "metadata": {
    "scrolled": true
   },
   "outputs": [
    {
     "name": "stdout",
     "output_type": "stream",
     "text": [
      "{'_id': ObjectId('56d61033a378eccde8a83553'),\n",
      " 'address': {'city': 'STATEN ISLAND',\n",
      "             'number': 1233,\n",
      "             'street': 'TODT HILL RD',\n",
      "             'zip': 10304},\n",
      " 'business_name': 'ERIC CONSTRUCTION AND DECORATING INC.',\n",
      " 'certificate_number': 5381180,\n",
      " 'date': datetime.datetime(2015, 9, 8, 0, 0),\n",
      " 'id': '10127-2015-CMPL',\n",
      " 'result': 'Violation Issued',\n",
      " 'sector': 'Home Improvement Contractor - 100'}\n",
      "------------------------------------------------------------\n",
      "\n",
      "{'_id': ObjectId('56d61033a378eccde8a8355d'),\n",
      " 'address': {'city': 'BROOKLYN',\n",
      "             'number': 1320,\n",
      "             'street': 'E 55TH ST',\n",
      "             'zip': 11234},\n",
      " 'business_name': 'NEW FINEST BUILDERS INC',\n",
      " 'certificate_number': 5381196,\n",
      " 'date': datetime.datetime(2015, 12, 1, 0, 0),\n",
      " 'id': '10351-2015-CMPL',\n",
      " 'result': 'Violation Issued',\n",
      " 'sector': 'Home Improvement Contractor - 100'}\n",
      "------------------------------------------------------------\n",
      "\n"
     ]
    }
   ],
   "source": [
    "Output_head(result50)"
   ]
  },
  {
   "cell_type": "markdown",
   "id": "ac2458c0-7720-4ed2-a981-a8b072dad79a",
   "metadata": {},
   "source": [
    "-----------"
   ]
  },
  {
   "cell_type": "markdown",
   "id": "a9023436-dd7c-4e44-936c-54530942cbf2",
   "metadata": {},
   "source": [
    "## Hard Questions"
   ]
  },
  {
   "cell_type": "markdown",
   "id": "2b73a401-e1af-4536-96b6-d05512d2dc3c",
   "metadata": {},
   "source": [
    "__Q51. Group businesses by `address.city` and calculate the average `certificate_number` for each city.__"
   ]
  },
  {
   "cell_type": "code",
   "execution_count": 136,
   "id": "2b3ebc21-fc8e-4d8e-833b-033a0c3cfc97",
   "metadata": {},
   "outputs": [],
   "source": [
    "query51 = [\n",
    "    {\n",
    "        \"$group\": {\n",
    "            \"_id\": \"$address.city\",\n",
    "            \"avg_cert_num\": {\"$avg\": \"$certificate_number\"}\n",
    "        }\n",
    "    }\n",
    "]"
   ]
  },
  {
   "cell_type": "code",
   "execution_count": 137,
   "id": "efbad97a-f555-4553-9bc3-203ca0e3cfdd",
   "metadata": {},
   "outputs": [],
   "source": [
    "result51 = myCollection.aggregate(query51)"
   ]
  },
  {
   "cell_type": "code",
   "execution_count": 138,
   "id": "93c50838-4163-491f-85ad-8061cc3e45dc",
   "metadata": {},
   "outputs": [
    {
     "name": "stdout",
     "output_type": "stream",
     "text": [
      "{'_id': 'WANTAGH', 'avg_cert_num': 9296115.0}\n",
      "------------------------------------------------------------\n",
      "\n",
      "{'_id': 'HIGHLAND', 'avg_cert_num': 4210833.5}\n",
      "------------------------------------------------------------\n",
      "\n"
     ]
    }
   ],
   "source": [
    "Output_head(result51)"
   ]
  },
  {
   "cell_type": "markdown",
   "id": "4d95db46-691d-4d6f-9903-cf7c1b20ac73",
   "metadata": {},
   "source": [
    "----------"
   ]
  },
  {
   "cell_type": "markdown",
   "id": "f8a649ea-5dc3-4783-8b8b-ff8286c03a62",
   "metadata": {},
   "source": [
    "__Q52. Find the top 2 `sectors` with the highest number of \"Violation Issued\" results.__"
   ]
  },
  {
   "cell_type": "code",
   "execution_count": 139,
   "id": "608d3669-6439-44a8-881e-e1c013fc065c",
   "metadata": {},
   "outputs": [],
   "source": [
    "query52 = [\n",
    "    {\n",
    "        \"$match\": {\"result\": \"Violation Issued\"}\n",
    "    },    \n",
    "    {\n",
    "        \"$group\": {\n",
    "            \"_id\": \"$sector\",\n",
    "            \"num_of_viol\": {\"$sum\": 1}\n",
    "        }\n",
    "    },\n",
    "    {\n",
    "        \"$sort\":{\n",
    "            \"num_of_viol\": -1\n",
    "        }\n",
    "    },\n",
    "    {\n",
    "        \"$limit\": 2\n",
    "    }\n",
    "]"
   ]
  },
  {
   "cell_type": "code",
   "execution_count": 141,
   "id": "62b9db74-ea3a-40d8-ba03-74f8fffd7ab7",
   "metadata": {},
   "outputs": [],
   "source": [
    "result52 = myCollection.aggregate(query52)"
   ]
  },
  {
   "cell_type": "code",
   "execution_count": 142,
   "id": "7209847d-21f9-4c58-9fda-3285f4c1dece",
   "metadata": {},
   "outputs": [
    {
     "name": "stdout",
     "output_type": "stream",
     "text": [
      "{'_id': 'Cigarette Retail Dealer - 127', 'num_of_viol': 3532}\n",
      "------------------------------------------------------------\n",
      "\n",
      "{'_id': 'Grocery-Retail - 808', 'num_of_viol': 2627}\n",
      "------------------------------------------------------------\n",
      "\n"
     ]
    }
   ],
   "source": [
    "Output_head(result52)"
   ]
  },
  {
   "cell_type": "markdown",
   "id": "ad298110-7a5c-4e98-a17e-a025e691c477",
   "metadata": {},
   "source": [
    "___"
   ]
  },
  {
   "cell_type": "markdown",
   "id": "f4a4ec76-0066-471e-b2b0-8a411d8b7bdc",
   "metadata": {},
   "source": [
    "__Q53. Retrieve the `business_name` of the business with the latest inspection `date`.__"
   ]
  },
  {
   "cell_type": "code",
   "execution_count": 143,
   "id": "531f5802-b426-4144-9a3a-3163df34ff99",
   "metadata": {},
   "outputs": [],
   "source": [
    "query53 = {}"
   ]
  },
  {
   "cell_type": "code",
   "execution_count": 145,
   "id": "b9e88c06-4a77-4474-9321-dc99df5df36e",
   "metadata": {},
   "outputs": [],
   "source": [
    "projection53 = {\n",
    "    \"business_name\": 1,\n",
    "    \"_id\": 0\n",
    "}"
   ]
  },
  {
   "cell_type": "code",
   "execution_count": 146,
   "id": "acf65b46-9dab-4d5e-9406-a343cde7745e",
   "metadata": {},
   "outputs": [],
   "source": [
    "result53 = myCollection.find(query53, projection53).sort({\"date\": 1}).limit(1)"
   ]
  },
  {
   "cell_type": "code",
   "execution_count": 147,
   "id": "d3016367-11b7-4aee-b82a-f63383b92b5b",
   "metadata": {},
   "outputs": [
    {
     "name": "stdout",
     "output_type": "stream",
     "text": [
      "{'business_name': 'WESTERN BEEF RETAIL, INC.'}\n",
      "------------------------------------------------------------\n",
      "\n"
     ]
    }
   ],
   "source": [
    "Output_head(result53)"
   ]
  },
  {
   "cell_type": "markdown",
   "id": "22a1ab97-1744-440d-a31a-2dd46e354973",
   "metadata": {},
   "source": [
    "-------"
   ]
  },
  {
   "cell_type": "markdown",
   "id": "cf920dc3-69b7-4a14-b47c-38a945b0e1de",
   "metadata": {},
   "source": [
    "__Q54. Group businesses by `sector` and `result`, then count how many businesses fall into each combination.__"
   ]
  },
  {
   "cell_type": "code",
   "execution_count": 148,
   "id": "f8200290-f07d-4e7b-930f-89ac80f7837b",
   "metadata": {},
   "outputs": [],
   "source": [
    "query54 = [\n",
    "    {\n",
    "        \"$group\": {\n",
    "            \"_id\": {\"sector\": \"$sector\", \"result\": \"$result\"},\n",
    "            \"count\": {\"$sum\": 1}\n",
    "        }\n",
    "    }\n",
    "]"
   ]
  },
  {
   "cell_type": "code",
   "execution_count": 149,
   "id": "0095de45-8232-4410-b091-51a22bf78f32",
   "metadata": {},
   "outputs": [],
   "source": [
    "result54 = myCollection.aggregate(query54)"
   ]
  },
  {
   "cell_type": "code",
   "execution_count": 152,
   "id": "1bedaa90-d50a-4571-8c98-dc0e0028c023",
   "metadata": {},
   "outputs": [
    {
     "name": "stdout",
     "output_type": "stream",
     "text": [
      "{'_id': {'result': 'Violation Issued',\n",
      "         'sector': 'Amusement Device (Temporary) - 090'},\n",
      " 'count': 1}\n",
      "------------------------------------------------------------\n",
      "\n",
      "{'_id': {'result': 'Violation Issued', 'sector': 'Retail Store - 820'},\n",
      " 'count': 6}\n",
      "------------------------------------------------------------\n",
      "\n"
     ]
    }
   ],
   "source": [
    "Output_head(result54)"
   ]
  },
  {
   "cell_type": "markdown",
   "id": "7c79cb64-f6ef-4e99-8648-3457fe13062e",
   "metadata": {},
   "source": [
    "------------------"
   ]
  },
  {
   "cell_type": "markdown",
   "id": "bf3476ef-254c-4009-b746-fdcb32f573e9",
   "metadata": {},
   "source": [
    "__Q55. Find the percentage of businesses that received a \"Violation Issued\" result out of the total businesses.__"
   ]
  },
  {
   "cell_type": "code",
   "execution_count": 153,
   "id": "cf91e0b9-70b9-420e-97ba-7a9c7361c04a",
   "metadata": {},
   "outputs": [],
   "source": [
    "total = myCollection.count_documents({})"
   ]
  },
  {
   "cell_type": "code",
   "execution_count": 154,
   "id": "a6e67ae3-e47a-4855-b7c9-6cb364158b2b",
   "metadata": {},
   "outputs": [],
   "source": [
    "violation = myCollection.count_documents({\"result\": \"Violation Issued\"})"
   ]
  },
  {
   "cell_type": "code",
   "execution_count": 159,
   "id": "414e683f-4fb9-493f-a703-ed48a6536818",
   "metadata": {},
   "outputs": [],
   "source": [
    "result55 = violation / total * 100"
   ]
  },
  {
   "cell_type": "code",
   "execution_count": 169,
   "id": "4b51ca81-35ed-438c-8021-3e9a59373dd7",
   "metadata": {},
   "outputs": [
    {
     "data": {
      "text/plain": [
       "'17.06%'"
      ]
     },
     "execution_count": 169,
     "metadata": {},
     "output_type": "execute_result"
    }
   ],
   "source": [
    "f\"{result55:.2f}%\""
   ]
  },
  {
   "cell_type": "markdown",
   "id": "d5560a00-64e8-4bbc-ba86-f3ebdf481516",
   "metadata": {},
   "source": [
    "-------"
   ]
  },
  {
   "cell_type": "markdown",
   "id": "bfc6d27a-bd04-4c3a-bb0d-498cb4c95244",
   "metadata": {},
   "source": [
    "__Q56. List businesses that have the same `address.zip` but different `result` values.__"
   ]
  },
  {
   "cell_type": "code",
   "execution_count": 170,
   "id": "91ed8df6-dd31-4bf7-b6da-3f76a5176fd3",
   "metadata": {},
   "outputs": [],
   "source": [
    "query56 = [\n",
    "  { \"$group\": {\n",
    "      \"_id\": \"$address.zip\",\n",
    "      \"resultTypes\": { \"$addToSet\": \"$result\" }\n",
    "  }},\n",
    "  { \"$match\": { \"resultTypes.1\": { \"$exists\": True } } }\n",
    "]"
   ]
  },
  {
   "cell_type": "code",
   "execution_count": 172,
   "id": "5fe3a48c-e76d-4d4c-9f49-2377a41ae090",
   "metadata": {},
   "outputs": [],
   "source": [
    "result56 = myCollection.aggregate(query56)"
   ]
  },
  {
   "cell_type": "code",
   "execution_count": 173,
   "id": "e74f0e37-7fcb-4886-b1fe-8e16710ef1d5",
   "metadata": {
    "scrolled": true
   },
   "outputs": [
    {
     "name": "stdout",
     "output_type": "stream",
     "text": [
      "{'_id': 11231,\n",
      " 'resultTypes': ['Warning',\n",
      "                 'Posting Order Served',\n",
      "                 'Re-inspection',\n",
      "                 'No Violation Issued',\n",
      "                 'Violation Issued',\n",
      "                 'No Evidence of Activity',\n",
      "                 'Pass',\n",
      "                 'Out of Business',\n",
      "                 'Closed',\n",
      "                 'Fail',\n",
      "                 'NOH Withdrawn']}\n",
      "------------------------------------------------------------\n",
      "\n",
      "{'_id': 10452,\n",
      " 'resultTypes': ['Warning',\n",
      "                 'No Violation Issued',\n",
      "                 'Re-inspection',\n",
      "                 'Pass',\n",
      "                 'Posting Order Served',\n",
      "                 'No Evidence of Activity',\n",
      "                 'Violation Issued',\n",
      "                 'Out of Business',\n",
      "                 'Unable to Locate',\n",
      "                 'Closed',\n",
      "                 'Fail',\n",
      "                 'Licensed',\n",
      "                 'ECB Warning Issued']}\n",
      "------------------------------------------------------------\n",
      "\n"
     ]
    }
   ],
   "source": [
    "Output_head(result56)"
   ]
  },
  {
   "cell_type": "markdown",
   "id": "9ae1e7fc-451b-4624-a646-799432ccbe4b",
   "metadata": {},
   "source": [
    "------------"
   ]
  },
  {
   "cell_type": "markdown",
   "id": "0f9bae50-ed8c-4086-90bc-d54bef2c6fd3",
   "metadata": {},
   "source": [
    "__Q57. Retrieve businesses whose `address.number` is higher than the average `address.number` of all businesses.__"
   ]
  },
  {
   "cell_type": "markdown",
   "id": "2264ecbe-c65b-4040-8895-1ce3b5efc4ad",
   "metadata": {},
   "source": [
    "```javascript\n",
    "var avgNumber = db.businesses.aggregate([\n",
    "  { $group: { _id: null, avgNumber: { $avg: \"$address.number\" } } }\n",
    "]).toArray()[0].avgNumber;\n",
    "\n",
    "db.businesses.find({ \"address.number\": { $gt: avgNumber } })\n",
    "```\n"
   ]
  },
  {
   "cell_type": "markdown",
   "id": "0bcc1a13-d419-4dea-b908-18858fc37201",
   "metadata": {},
   "source": [
    "-----------"
   ]
  },
  {
   "cell_type": "markdown",
   "id": "9228e11b-3bcd-451f-af22-053c41aec891",
   "metadata": {},
   "source": [
    "__Q58. For each `address.city`, count how many businesses have a `certificate_number` above 7000000.__"
   ]
  },
  {
   "cell_type": "code",
   "execution_count": 177,
   "id": "59b004a1-ed11-456f-8f88-8d9fd48cc1a0",
   "metadata": {},
   "outputs": [],
   "source": [
    "query58 = [\n",
    "    {\n",
    "        \"$match\": {\"certificate_number\": {\"$gt\": 7000000}}\n",
    "    },{\n",
    "        \"$group\": {\n",
    "            \"_id\": \"address.city\",\n",
    "            \"count\": {\"$sum\": 1 }\n",
    "        }\n",
    "    }\n",
    "]"
   ]
  },
  {
   "cell_type": "code",
   "execution_count": 178,
   "id": "bebf5592-5859-487b-be3c-c8e004f700bb",
   "metadata": {},
   "outputs": [],
   "source": [
    "result58 = myCollection.aggregate(query58)"
   ]
  },
  {
   "cell_type": "code",
   "execution_count": 179,
   "id": "391813a8-2a65-43f7-98a3-bac0d78acc72",
   "metadata": {},
   "outputs": [
    {
     "name": "stdout",
     "output_type": "stream",
     "text": [
      "{'_id': 'address.city', 'count': 57277}\n",
      "------------------------------------------------------------\n",
      "\n"
     ]
    }
   ],
   "source": [
    "Output_head(result58)"
   ]
  },
  {
   "cell_type": "markdown",
   "id": "55a31d86-0c90-4eed-a82c-07eeb91b1f2a",
   "metadata": {},
   "source": [
    "------------"
   ]
  },
  {
   "cell_type": "markdown",
   "id": "f31b289a-5d78-4559-b5d6-0953e317dfdb",
   "metadata": {},
   "source": [
    "__Q59. Find businesses with duplicate `certificate_number` values (if any).__"
   ]
  },
  {
   "cell_type": "code",
   "execution_count": 180,
   "id": "9998cdf1-2659-4a6f-979d-6ce52ca75a61",
   "metadata": {},
   "outputs": [],
   "source": [
    "query59 = [\n",
    "  {\"$group\": {\n",
    "      \"_id\": \"$certificate_number\",\n",
    "      \"count\": { \"$sum\": 1 }\n",
    "  }},\n",
    "  { \"$match\": { \"count\": { \"$gt\": 1 } } }\n",
    "]"
   ]
  },
  {
   "cell_type": "code",
   "execution_count": 181,
   "id": "d056d8b4-0799-43ff-a097-edd379532717",
   "metadata": {},
   "outputs": [],
   "source": [
    "result59 = myCollection.aggregate(query59)"
   ]
  },
  {
   "cell_type": "code",
   "execution_count": 182,
   "id": "bbfae359-4743-4d46-9103-84fa0a677f0a",
   "metadata": {},
   "outputs": [
    {
     "name": "stdout",
     "output_type": "stream",
     "text": [
      "{'_id': 9306529, 'count': 2}\n",
      "------------------------------------------------------------\n",
      "\n",
      "{'_id': 3048403, 'count': 2}\n",
      "------------------------------------------------------------\n",
      "\n"
     ]
    }
   ],
   "source": [
    "Output_head(result59)"
   ]
  },
  {
   "cell_type": "markdown",
   "id": "f311277c-e3ce-442a-9c20-ee5fe20d0062",
   "metadata": {},
   "source": [
    "____"
   ]
  },
  {
   "cell_type": "markdown",
   "id": "645d90ab-1a02-4902-bf39-87437ad58c01",
   "metadata": {},
   "source": [
    "__Q60. Group businesses by the month of the `date` and count how many inspections happened in each month.__"
   ]
  },
  {
   "cell_type": "markdown",
   "id": "1967385b-b12f-44b7-bf9f-f893f0da0450",
   "metadata": {},
   "source": [
    "```javascript\n",
    "db.businesses.aggregate([\n",
    "  { $group: {\n",
    "      _id: { $substr: [\"$date\", 0, 3] },\n",
    "      count: { $sum: 1 }\n",
    "  }}\n",
    "])\n",
    "```"
   ]
  },
  {
   "cell_type": "markdown",
   "id": "e4585440-5396-4b17-922a-4bcb407599e3",
   "metadata": {},
   "source": [
    "-----------"
   ]
  }
 ],
 "metadata": {
  "kernelspec": {
   "display_name": "Python 3 (ipykernel)",
   "language": "python",
   "name": "python3"
  },
  "language_info": {
   "codemirror_mode": {
    "name": "ipython",
    "version": 3
   },
   "file_extension": ".py",
   "mimetype": "text/x-python",
   "name": "python",
   "nbconvert_exporter": "python",
   "pygments_lexer": "ipython3",
   "version": "3.12.5"
  }
 },
 "nbformat": 4,
 "nbformat_minor": 5
}
